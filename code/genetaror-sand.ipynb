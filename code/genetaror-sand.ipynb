{
 "cells": [
  {
   "cell_type": "markdown",
   "metadata": {
    "deletable": true,
    "editable": true,
    "lang": "fr"
   },
   "source": [
    "# Генератор обучающей выборки (песок)"
   ]
  },
  {
   "cell_type": "markdown",
   "metadata": {
    "collapsed": true,
    "deletable": true,
    "editable": true
   },
   "source": [
    "Равномерное заполнение изображения 256x256 px \"песчинками\" c разной интенсивностью"
   ]
  },
  {
   "cell_type": "code",
   "execution_count": 3,
   "metadata": {
    "collapsed": false,
    "deletable": true,
    "editable": true
   },
   "outputs": [],
   "source": [
    "import numpy as np\n",
    "import matplotlib.pyplot as plt\n",
    "import seaborn as sns\n",
    "from PIL import Image, ImageDraw\n",
    "from numpy.random import randint, randn, poisson, choice, rand\n",
    "from numpy import pi\n",
    "from tqdm import tqdm_notebook, tnrange\n",
    "%matplotlib inline"
   ]
  },
  {
   "cell_type": "markdown",
   "metadata": {
    "deletable": true,
    "editable": true
   },
   "source": [
    "### Гиперпараметры"
   ]
  },
  {
   "cell_type": "code",
   "execution_count": 2,
   "metadata": {
    "collapsed": true,
    "deletable": true,
    "editable": true
   },
   "outputs": [],
   "source": [
    "# размеры изображения обучающей выборки\n",
    "W = 256\n",
    "H = 256\n",
    "# коэффициент антиалиасинга\n",
    "AA = 3\n",
    "# линейный тренд l = lambda = Kx + b\n",
    "lStart = 0.2\n",
    "lEnd = 5\n",
    "K = (lEnd - lStart) / (W * AA)\n",
    "# процент \"обхождения x-ов\"\n",
    "B = 0.3\n",
    "# радиус \"песчинок\"\n",
    "r = 3\n",
    "# названия и путь к файлам\n",
    "fileName = \"sample\"\n",
    "ext = \".jpg\"\n",
    "filePath = \"../data/sand/trend2/\""
   ]
  },
  {
   "cell_type": "markdown",
   "metadata": {
    "deletable": true,
    "editable": true
   },
   "source": [
    "### Функции генерирования сэмплов"
   ]
  },
  {
   "cell_type": "code",
   "execution_count": 3,
   "metadata": {
    "collapsed": false,
    "deletable": true,
    "editable": true
   },
   "outputs": [],
   "source": [
    "def generateSample(w, h, l, B, num, AA, val=False, side=1):\n",
    "    # новое ч/б изображение, размером в AA**2 раз больше для суперсэмплинга\n",
    "    W = w * AA\n",
    "    H = h * AA\n",
    "    R = r * AA\n",
    "    image = Image.new('1', (W, H), 'white')\n",
    "    draw = ImageDraw.Draw(image)\n",
    "    # карта заполнения, чтобы предотвратить взаимопроникновение \"песчинок\"\n",
    "    pixelMap = image.load()\n",
    "    # цикл по x-ам\n",
    "    for k in range(int(B * W)):\n",
    "        x = randint(1, W)\n",
    "        # число событий пуассоновского потока на данной вертикали\n",
    "        Nx = poisson(l(x))\n",
    "        # находим недоступные на данный момент y\n",
    "        bannedY = set()\n",
    "        for y in range(H):\n",
    "            banCond = 0\n",
    "            for j in range(R + 1):\n",
    "                # условия недоступности y\n",
    "                if (x - j > 0):\n",
    "                    cLeft = pixelMap[x - j, y]\n",
    "                else:\n",
    "                    cLeft = True\n",
    "                if (x + j < W - 1):\n",
    "                    cRight = pixelMap[x + j, y]\n",
    "                else:\n",
    "                    cRight = True\n",
    "                if (y - j > 0):\n",
    "                    cTop = pixelMap[x, y - j]\n",
    "                else:\n",
    "                    cTop = True\n",
    "                if (y + j < H - 1):\n",
    "                    cBot = pixelMap[x, y + j]\n",
    "                else:\n",
    "                    cBot = True\n",
    "                freeCond = banCond or cLeft or cRight or cTop or cBot\n",
    "            if(not(freeCond)):\n",
    "                bannedY.add(y)\n",
    "        # заполняем вертикаль\n",
    "        freeY = set(range(W)) - bannedY\n",
    "        for j in range(Nx):\n",
    "            # генерируем y из доступных значений\n",
    "            y = choice(list(freeY))\n",
    "            draw.ellipse((x - R, y - R, x + R, y + R), fill='black')\n",
    "            freeY -= set(range(y - R, y + R + 1))\n",
    "    # суперсэмплинг с антиалиасингом\n",
    "    image = image.resize((w, h))\n",
    "    fullFilePath = filePath\n",
    "    if (val == False):\n",
    "        fullFilePath += \"train/\"\n",
    "    else:\n",
    "        fullFilePath += \"validation/\"\n",
    "    if (side == 1):\n",
    "        fullFilePath += \"side1/\"\n",
    "    elif (side == 2):\n",
    "        fullFilePath += \"side2/\"\n",
    "    else:\n",
    "        fullFilePath += \"panorama/\"\n",
    "    fullFilePath += (fileName + str(num) + ext)\n",
    "    image.save(fullFilePath)"
   ]
  },
  {
   "cell_type": "code",
   "execution_count": 4,
   "metadata": {
    "collapsed": false,
    "deletable": true,
    "editable": true
   },
   "outputs": [
    {
     "data": {
      "application/vnd.jupyter.widget-view+json": {
       "model_id": "537077b2ddef4fce897c9a5ab40f8184"
      }
     },
     "metadata": {},
     "output_type": "display_data"
    },
    {
     "name": "stdout",
     "output_type": "stream",
     "text": [
      "\n"
     ]
    },
    {
     "data": {
      "application/vnd.jupyter.widget-view+json": {
       "model_id": "55eb13440e134bd4aed879deaf67815d"
      }
     },
     "metadata": {},
     "output_type": "display_data"
    },
    {
     "name": "stdout",
     "output_type": "stream",
     "text": [
      "\n"
     ]
    }
   ],
   "source": [
    "# количество сэмплов для генерации\n",
    "N = 10\n",
    "# train/validation = 80/20\n",
    "N_train = int(0.8 * N)\n",
    "N_val = N - N_train\n",
    "for i in tnrange(N_train, desc='Train'):\n",
    "    generateSample(W, H, lambda x: lStart, B, i, AA, val=False, side=1)\n",
    "    generateSample(W, H, lambda x: lEnd, B, i, AA, val=False, side=2)\n",
    "    generateSample(W, H, lambda x: lStart + K * x, B, i, AA, val=False, side=3)\n",
    "\n",
    "for i in tnrange(N_val, desc='Validation'):\n",
    "    generateSample(W, H, lambda x: lStart, B, i, AA, val=True, side=1)\n",
    "    generateSample(W, H, lambda x: lEnd, B, i, AA, val=True, side=2)\n",
    "    generateSample(W, H, lambda x: lStart + K * x, B, i, AA, val=True, side=3)"
   ]
  },
  {
   "cell_type": "code",
   "execution_count": null,
   "metadata": {
    "collapsed": true,
    "deletable": true,
    "editable": true
   },
   "outputs": [],
   "source": [
    "w = W * AA\n",
    "h = H * AA\n",
    "R = r * AA\n",
    "image = Image.new('1', (w, h), 'white')\n",
    "draw = ImageDraw.Draw(image)\n",
    "x = 0\n"
   ]
  },
  {
   "cell_type": "code",
   "execution_count": 11,
   "metadata": {
    "collapsed": false
   },
   "outputs": [],
   "source": [
    "from numpy.random import rand\n",
    "from math import log\n",
    "t = 0\n",
    "for k in range(1000):\n",
    "    u1 = rand()\n",
    "    t -= (1/4) * log(u1)"
   ]
  },
  {
   "cell_type": "code",
   "execution_count": 14,
   "metadata": {
    "collapsed": false
   },
   "outputs": [],
   "source": [
    "l = lambda x: lStart + K * x"
   ]
  },
  {
   "cell_type": "code",
   "execution_count": 104,
   "metadata": {
    "collapsed": false
   },
   "outputs": [
    {
     "name": "stdout",
     "output_type": "stream",
     "text": [
      "dada\n"
     ]
    }
   ],
   "source": [
    "num = 0\n",
    "x = 0\n",
    "X = np.zeros(768)\n",
    "X_fl = []\n",
    "while int(x) < 767:\n",
    "    u1 = rand()\n",
    "    x -= log(u1) / lStart\n",
    "    u2 = rand()\n",
    "    if (u2 <= lStart / lStart):\n",
    "        num +=1\n",
    "        try:\n",
    "            X[int(x)] += 1\n",
    "        except IndexError:\n",
    "            print('dada')\n",
    "            break"
   ]
  },
  {
   "cell_type": "code",
   "execution_count": 110,
   "metadata": {
    "collapsed": false
   },
   "outputs": [
    {
     "data": {
      "text/plain": [
       "array([0, 0, 0, 0, 0, 0, 0, 0, 0, 1, 0, 0, 0, 0, 1, 0, 0, 1, 0, 0, 0, 0, 0,\n",
       "       0, 0, 0, 0, 0, 0, 0, 0, 0, 0, 0, 0, 1, 0, 0, 0, 0, 1, 0, 0, 1, 0, 0,\n",
       "       1, 0, 0, 0, 0, 0, 0, 1, 0, 1, 0, 0, 1, 0, 1, 0, 0, 0, 1, 0, 0, 0, 0,\n",
       "       0, 1, 0, 0, 0, 0, 0, 0, 0, 1, 0, 0, 0, 0, 0, 0, 0, 0, 1, 0, 0, 0, 0,\n",
       "       0, 0, 0, 0, 0, 0, 1, 0, 0, 0, 1, 0, 0, 0, 0, 0, 1, 0, 1, 0, 0, 0, 0,\n",
       "       0, 0, 0, 0, 0, 0, 0, 0, 0, 0, 0, 0, 1, 0, 0, 0, 0, 0, 0, 0, 0, 0, 0,\n",
       "       1, 0, 1, 0, 0, 1, 0, 0, 0, 0, 0, 0, 0, 0, 0, 0, 0, 0, 0, 0, 0, 0, 1,\n",
       "       0, 1, 0, 0, 0, 2, 0, 0, 0, 0, 0, 0, 0, 1, 0, 0, 2, 0, 0, 1, 0, 0, 0,\n",
       "       0, 0, 0, 1, 0, 0, 0, 0, 0, 1, 0, 0, 0, 0, 0, 0, 0, 0, 0, 0, 1, 0, 0,\n",
       "       0, 0, 1, 0, 0, 0, 0, 0, 0, 0, 1, 0, 1, 0, 0, 0, 0, 0, 1, 0, 0, 1, 0,\n",
       "       1, 1, 0, 0, 0, 0, 0, 0, 0, 0, 0, 0, 0, 0, 1, 0, 0, 0, 0, 0, 3, 0, 0,\n",
       "       1, 0, 1, 1, 0, 0, 0, 0, 1, 0, 0, 0, 0, 0, 0, 0, 0, 0, 0, 0, 0, 0, 0,\n",
       "       0, 0, 0, 0, 0, 0, 0, 0, 2, 0, 0, 0, 0, 0, 1, 0, 0, 0, 1, 0, 0, 0, 1,\n",
       "       0, 0, 0, 1, 0, 0, 0, 0, 0, 0, 0, 0, 0, 0, 0, 0, 0, 0, 0, 0, 0, 1, 0,\n",
       "       0, 0, 0, 0, 0, 1, 2, 0, 0, 0, 1, 0, 0, 0, 0, 0, 2, 0, 1, 0, 0, 0, 0,\n",
       "       0, 0, 1, 0, 0, 0, 1, 0, 2, 0, 0, 1, 0, 0, 0, 0, 0, 0, 1, 0, 1, 0, 0,\n",
       "       0, 1, 0, 1, 0, 1, 0, 1, 0, 0, 0, 1, 1, 0, 0, 0, 0, 0, 0, 1, 0, 0, 0,\n",
       "       0, 0, 0, 0, 0, 0, 0, 0, 0, 0, 0, 0, 0, 0, 0, 0, 1, 0, 0, 0, 0, 0, 0,\n",
       "       2, 0, 0, 0, 1, 0, 0, 0, 0, 0, 0, 0, 0, 0, 1, 0, 0, 0, 0, 0, 0, 1, 0,\n",
       "       0, 0, 0, 1, 1, 0, 0, 0, 0, 0, 0, 0, 0, 0, 0, 0, 0, 0, 0, 1, 0, 0, 1,\n",
       "       0, 0, 0, 0, 0, 1, 0, 0, 0, 0, 0, 1, 0, 1, 0, 0, 0, 0, 0, 0, 0, 0, 0,\n",
       "       1, 0, 0, 0, 0, 0, 0, 0, 0, 0, 0, 0, 0, 0, 0, 0, 1, 1, 0, 1, 0, 0, 0,\n",
       "       0, 0, 1, 0, 0, 0, 0, 1, 0, 1, 0, 1, 0, 0, 0, 1, 0, 1, 0, 0, 0, 0, 0,\n",
       "       0, 0, 0, 0, 0, 1, 0, 0, 0, 0, 0, 0, 0, 0, 0, 1, 0, 0, 0, 2, 1, 0, 0,\n",
       "       0, 1, 0, 1, 0, 0, 0, 0, 0, 2, 0, 1, 0, 0, 0, 0, 0, 0, 0, 0, 0, 0, 0,\n",
       "       0, 0, 0, 0, 0, 1, 1, 0, 0, 1, 0, 1, 0, 0, 0, 0, 1, 0, 0, 1, 0, 0, 0,\n",
       "       0, 0, 0, 1, 0, 0, 0, 0, 0, 0, 0, 0, 0, 0, 0, 0, 0, 1, 0, 0, 1, 1, 0,\n",
       "       0, 0, 0, 0, 0, 0, 0, 0, 0, 0, 0, 3, 0, 0, 0, 0, 0, 0, 1, 0, 0, 0, 0,\n",
       "       1, 1, 1, 0, 0, 0, 0, 0, 0, 0, 0, 1, 1, 1, 0, 1, 1, 0, 0, 0, 1, 0, 0,\n",
       "       0, 0, 0, 0, 0, 0, 0, 0, 0, 1, 0, 0, 0, 0, 0, 0, 0, 0, 1, 0, 0, 0, 0,\n",
       "       0, 0, 1, 1, 0, 0, 0, 0, 0, 0, 0, 0, 0, 1, 0, 0, 0, 1, 0, 0, 2, 0, 0,\n",
       "       0, 0, 1, 0, 0, 1, 1, 0, 0, 0, 1, 0, 0, 0, 1, 0, 1, 0, 0, 0, 0, 0, 1,\n",
       "       0, 0, 0, 0, 0, 1, 0, 0, 0, 0, 0, 0, 0, 1, 0, 0, 0, 1, 0, 0, 0, 0, 1,\n",
       "       0, 0, 0, 0, 0, 0, 0, 0, 0])"
      ]
     },
     "execution_count": 110,
     "metadata": {},
     "output_type": "execute_result"
    }
   ],
   "source": [
    "X.astype('int')"
   ]
  },
  {
   "cell_type": "code",
   "execution_count": 94,
   "metadata": {
    "collapsed": false
   },
   "outputs": [],
   "source": [
    "X *= K\n",
    "X = X.astype('int')"
   ]
  },
  {
   "cell_type": "code",
   "execution_count": 95,
   "metadata": {
    "collapsed": false
   },
   "outputs": [
    {
     "data": {
      "text/plain": [
       "1189"
      ]
     },
     "execution_count": 95,
     "metadata": {},
     "output_type": "execute_result"
    }
   ],
   "source": [
    "sum(X)"
   ]
  },
  {
   "cell_type": "code",
   "execution_count": 96,
   "metadata": {
    "collapsed": false
   },
   "outputs": [
    {
     "data": {
      "text/plain": [
       "[<matplotlib.lines.Line2D at 0x7fa8a4e0e400>]"
      ]
     },
     "execution_count": 96,
     "metadata": {},
     "output_type": "execute_result"
    },
    {
     "data": {
      "image/png": "[encoded data removed]",
      "text/plain": [
       "<matplotlib.figure.Figure at 0x7fa8a50cd940>"
      ]
     },
     "metadata": {},
     "output_type": "display_data"
    }
   ],
   "source": [
    "plt.plot(X)"
   ]
  },
  {
   "cell_type": "code",
   "execution_count": 81,
   "metadata": {
    "collapsed": false
   },
   "outputs": [
    {
     "data": {
      "text/plain": [
       "449"
      ]
     },
     "execution_count": 81,
     "metadata": {},
     "output_type": "execute_result"
    }
   ],
   "source": [
    "sum(X)"
   ]
  },
  {
   "cell_type": "code",
   "execution_count": 100,
   "metadata": {
    "collapsed": false
   },
   "outputs": [
    {
     "data": {
      "text/plain": [
       "0"
      ]
     },
     "execution_count": 100,
     "metadata": {},
     "output_type": "execute_result"
    }
   ],
   "source": [
    "len(set([1, 2]) - set([1, 2]))"
   ]
  },
  {
   "cell_type": "code",
   "execution_count": null,
   "metadata": {
    "collapsed": true
   },
   "outputs": [],
   "source": []
  }
 ],
 "metadata": {
  "kernelspec": {
   "display_name": "Python 3",
   "language": "python",
   "name": "python3"
  },
  "language_info": {
   "codemirror_mode": {
    "name": "ipython",
    "version": 3
   },
   "file_extension": ".py",
   "mimetype": "text/x-python",
   "name": "python",
   "nbconvert_exporter": "python",
   "pygments_lexer": "ipython3",
   "version": "3.6.1"
  },
  "nbTranslate": {
   "displayLangs": [
    "*"
   ],
   "hotkey": "alt-t",
   "langInMainMenu": true,
   "sourceLang": "en",
   "targetLang": "fr",
   "useGoogleTranslate": true
  },
  "notify_time": "30"
 },
 "nbformat": 4,
 "nbformat_minor": 2
}
