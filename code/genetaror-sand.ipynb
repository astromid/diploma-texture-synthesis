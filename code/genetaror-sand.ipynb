{
 "cells": [
  {
   "cell_type": "markdown",
   "metadata": {},
   "source": [
    "# Генератор обучающей выборки (песок)"
   ]
  },
  {
   "cell_type": "markdown",
   "metadata": {
    "collapsed": true
   },
   "source": [
    "Равномерное заполнение изображения 100x100 px \"песчинками\" - кругами разного радиуса"
   ]
  },
  {
   "cell_type": "code",
   "execution_count": 57,
   "metadata": {
    "collapsed": false
   },
   "outputs": [],
   "source": [
    "from PIL import Image, ImageDraw\n",
    "from numpy.random import randint, randn"
   ]
  },
  {
   "cell_type": "markdown",
   "metadata": {},
   "source": [
    "### Гиперпараметры"
   ]
  },
  {
   "cell_type": "code",
   "execution_count": 83,
   "metadata": {
    "collapsed": true
   },
   "outputs": [],
   "source": [
    "#коэффициент линейного тренда r = Kx\n",
    "K = 0.04\n",
    "#размеры изображения обучающей выборки\n",
    "H = 100\n",
    "W = 100\n",
    "#граничная плотность заполнения изображения \"песком\" (R = S/S0)\n",
    "R0 = 0.75"
   ]
  },
  {
   "cell_type": "markdown",
   "metadata": {},
   "source": [
    "### Функции генерирования сэмплов"
   ]
  },
  {
   "cell_type": "markdown",
   "metadata": {},
   "source": [
    "Side 1 - левая граница"
   ]
  },
  {
   "cell_type": "code",
   "execution_count": 76,
   "metadata": {
    "collapsed": false
   },
   "outputs": [],
   "source": [
    "def genSampleSide1(W, H, K, R0, i):\n",
    "    #новое ч/б изображение размером в 10 раз больше для суперсэмплинга\n",
    "    image = Image.new('1', (10*W, 10*H), 'white')\n",
    "    draw = ImageDraw.Draw(image)\n",
    "    #S - текущая занятая площадь, S0 - общая площадь \"холста\"\n",
    "    S = 0\n",
    "    R = 0\n",
    "    S0 = 100 * W * H\n",
    "    #рисуем \"песчинки\", пока не достигнем плотности R\n",
    "    while(R < R0):\n",
    "        x0 = randint(1, 10*W)\n",
    "        y0 = randint(1, 10*H)\n",
    "        r = abs(K * x0 + int(randn()))\n",
    "        S += 4 * r**2\n",
    "        R = S / S0\n",
    "        draw.ellipse((x0-r, y0-r, x0+r, y0+r), fill='black')\n",
    "    del draw\n",
    "    #суперсэмплинг с антиалиасингом\n",
    "    #image = image.resize((W, H), Image.ANTIALIAS)\n",
    "    newFileName = \"sample\" + str(i) + \".jpg\"\n",
    "    image.save(\"../data/sand/side1/\" + newFileName)\n",
    "    print(\"New sample generated: Side1, file \" + \"../data/sand/side1/\" + newFileName)"
   ]
  },
  {
   "cell_type": "markdown",
   "metadata": {},
   "source": [
    "Side 2 - правая граница"
   ]
  },
  {
   "cell_type": "code",
   "execution_count": null,
   "metadata": {
    "collapsed": true
   },
   "outputs": [],
   "source": [
    "def genSampleSide2(W, H, K, R0, i):"
   ]
  },
  {
   "cell_type": "markdown",
   "metadata": {},
   "source": [
    "Panorama"
   ]
  },
  {
   "cell_type": "code",
   "execution_count": null,
   "metadata": {
    "collapsed": true
   },
   "outputs": [],
   "source": [
    "def genSamplePanorama(W, H, K, R0, i):"
   ]
  },
  {
   "cell_type": "code",
   "execution_count": 84,
   "metadata": {
    "collapsed": false
   },
   "outputs": [
    {
     "name": "stdout",
     "output_type": "stream",
     "text": [
      "New sample generated: file ../data/sand/side1/sample0.jpg\n",
      "New sample generated: file ../data/sand/side1/sample1.jpg\n",
      "New sample generated: file ../data/sand/side1/sample2.jpg\n"
     ]
    }
   ],
   "source": [
    "for i in range(3):\n",
    "    genSampleSide1(W, H, K, R0, i)"
   ]
  },
  {
   "cell_type": "code",
   "execution_count": null,
   "metadata": {
    "collapsed": true
   },
   "outputs": [],
   "source": []
  }
 ],
 "metadata": {
  "kernelspec": {
   "display_name": "Python 3",
   "language": "python",
   "name": "python3"
  },
  "language_info": {
   "codemirror_mode": {
    "name": "ipython",
    "version": 3
   },
   "file_extension": ".py",
   "mimetype": "text/x-python",
   "name": "python",
   "nbconvert_exporter": "python",
   "pygments_lexer": "ipython3",
   "version": "3.6.0"
  }
 },
 "nbformat": 4,
 "nbformat_minor": 2
}
