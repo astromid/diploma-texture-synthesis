{
 "cells": [
  {
   "cell_type": "code",
   "execution_count": 1,
   "metadata": {},
   "outputs": [
    {
     "name": "stderr",
     "output_type": "stream",
     "text": [
      "Using TensorFlow backend.\n"
     ]
    }
   ],
   "source": [
    "import numpy as np\n",
    "from utils import load_p2p_models\n",
    "from PIL import Image\n",
    "from models import g_unet, discriminator, pix2pix"
   ]
  },
  {
   "cell_type": "code",
   "execution_count": 2,
   "metadata": {
    "collapsed": true
   },
   "outputs": [],
   "source": [
    "f_gen = g_unet(8)\n",
    "d = discriminator(8)\n",
    "f_gen, d, losses = load_p2p_models('trained_models/sand', 4, 'nf8_cb', f_gen, d)"
   ]
  },
  {
   "cell_type": "code",
   "execution_count": 10,
   "metadata": {
    "collapsed": true
   },
   "outputs": [],
   "source": [
    "side1_image = Image.open('side1.jpg')\n",
    "#.convert(mode='L')\n",
    "#side1_image.save('side1_bw.jpg')\n",
    "side1_array = (np.array(side1_image).reshape(1, 256, 256, 1)) - 127.5\n",
    "side1_array /= 127.5\n",
    "side2_image = Image.open('side2.jpg')\n",
    "#.convert(mode='L')\n",
    "#side2_image.save('side2_bw.jpg')\n",
    "side2_array = (np.array(side2_image).reshape(1, 256, 256, 1)) - 127.5\n",
    "side2_array /= 127.5\n",
    "kern_input = np.concatenate((side1_array, side2_array), axis=3)\n",
    "generated = f_gen.predict(kern_input)\n",
    "gen_array = (127.5 * generated.reshape(256, 256) + 127.5).astype('uint8')\n",
    "image = Image.fromarray(gen_array, mode='L')\n",
    "image.save('generated.jpg')"
   ]
  },
  {
   "cell_type": "code",
   "execution_count": 6,
   "metadata": {},
   "outputs": [
    {
     "data": {
      "text/plain": [
       "'RGB'"
      ]
     },
     "execution_count": 6,
     "metadata": {},
     "output_type": "execute_result"
    }
   ],
   "source": [
    "side1_image.mode"
   ]
  },
  {
   "cell_type": "code",
   "execution_count": null,
   "metadata": {
    "collapsed": true
   },
   "outputs": [],
   "source": []
  }
 ],
 "metadata": {
  "kernelspec": {
   "display_name": "Python 3",
   "language": "python",
   "name": "python3"
  },
  "language_info": {
   "codemirror_mode": {
    "name": "ipython",
    "version": 3
   },
   "file_extension": ".py",
   "mimetype": "text/x-python",
   "name": "python",
   "nbconvert_exporter": "python",
   "pygments_lexer": "ipython3",
   "version": "3.6.1"
  },
  "nbTranslate": {
   "displayLangs": [
    "*"
   ],
   "hotkey": "alt-t",
   "langInMainMenu": true,
   "sourceLang": "en",
   "targetLang": "fr",
   "useGoogleTranslate": true
  }
 },
 "nbformat": 4,
 "nbformat_minor": 2
}
