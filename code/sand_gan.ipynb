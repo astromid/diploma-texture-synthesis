{
 "cells": [
  {
   "cell_type": "markdown",
   "metadata": {},
   "source": [
    "## pix2pix(U-Net + GAN) experiments"
   ]
  },
  {
   "cell_type": "code",
   "execution_count": 1,
   "metadata": {
    "collapsed": true
   },
   "outputs": [],
   "source": [
    "%matplotlib inline\n",
    "import numpy as np\n",
    "import matplotlib.pyplot as plt\n",
    "import seaborn as sns\n",
    "from tqdm import tnrange, tqdm_notebook\n",
    "import tensorflow as tf\n",
    "tf.logging.set_verbosity(tf.logging.WARN)"
   ]
  },
  {
   "cell_type": "markdown",
   "metadata": {},
   "source": [
    "### Model definitions"
   ]
  },
  {
   "cell_type": "code",
   "execution_count": 2,
   "metadata": {},
   "outputs": [
    {
     "name": "stderr",
     "output_type": "stream",
     "text": [
      "Using TensorFlow backend.\n"
     ]
    }
   ],
   "source": [
    "from utils import load_dataset, save_p2p_models, load_p2p_models\n",
    "from utils import plot_p2p_models, plot_p2p_losses, gen_nn_output\n",
    "from utils import three_image_generators\n",
    "from models import g_unet, discriminator, pix2pix\n",
    "from train import train"
   ]
  },
  {
   "cell_type": "markdown",
   "metadata": {},
   "source": [
    "### Dataset loading + preprocessing"
   ]
  },
  {
   "cell_type": "code",
   "execution_count": 3,
   "metadata": {},
   "outputs": [
    {
     "name": "stderr",
     "output_type": "stream",
     "text": [
      "Train dataset: 100%|██████████| 3325/3325 [00:10<00:00, 327.24it/s]\n",
      "Validation dataset: 100%|██████████| 175/175 [00:00<00:00, 327.02it/s]\n"
     ]
    }
   ],
   "source": [
    "W = 256\n",
    "H = 256\n",
    "dataset_path = '../data/sand'\n",
    "trend_num = 3\n",
    "side1_train, side2_train, panorama_train, side1_val, side2_val, panorama_val, N_train, N_val = load_dataset(\n",
    "    dataset_path, trend_num=trend_num, mode=3, W=W, H=H)"
   ]
  },
  {
   "cell_type": "code",
   "execution_count": 4,
   "metadata": {
    "collapsed": true
   },
   "outputs": [],
   "source": [
    "batch_size = 50\n",
    "train_gen, val_gen = three_image_generators(\n",
    "    side1_train, side2_train, panorama_train, side1_val, side2_val, panorama_val, batch_size=batch_size)"
   ]
  },
  {
   "cell_type": "markdown",
   "metadata": {
    "collapsed": true
   },
   "source": [
    "### Training"
   ]
  },
  {
   "cell_type": "code",
   "execution_count": 5,
   "metadata": {
    "collapsed": true
   },
   "outputs": [],
   "source": [
    "models_path = 'trained_models/sand'\n",
    "trend_num = 3\n",
    "nn_name = 'nf32'"
   ]
  },
  {
   "cell_type": "code",
   "execution_count": 6,
   "metadata": {},
   "outputs": [
    {
     "name": "stdout",
     "output_type": "stream",
     "text": [
      "Dir already exist\n"
     ]
    }
   ],
   "source": [
    "# создание моделей\n",
    "nf = 32\n",
    "f_gen = g_unet(nf)\n",
    "d = discriminator(nf)\n",
    "p2p = pix2pix(f_gen, d)\n",
    "plot_p2p_models(models_path, trend_num, nn_name, f_gen, d, p2p)\n",
    "#tbCallback = create_tb_callback(models_path, trend_num, nn_name)"
   ]
  },
  {
   "cell_type": "code",
   "execution_count": null,
   "metadata": {
    "scrolled": true
   },
   "outputs": [
    {
     "name": "stdout",
     "output_type": "stream",
     "text": [
      "Epoch 1/1\n",
      "67/67 [==============================] - 61s - loss: 0.0625    \n",
      "Epoch 1/1\n",
      "67/67 [==============================] - 66s - loss: 67.6684    \n",
      "\n",
      "Dir already exist\n",
      "Models saved successfully\n"
     ]
    }
   ],
   "source": [
    "# обучение\n",
    "losses = train(f_gen, d, p2p, train_gen, val_gen, epochs=150,\n",
    "               train_samples=N_train, val_samples=N_val, batch_size=batch_size)\n",
    "save_p2p_models(models_path, trend_num, nn_name, f_gen, d, losses)"
   ]
  },
  {
   "cell_type": "markdown",
   "metadata": {},
   "source": [
    "### Trained NN"
   ]
  },
  {
   "cell_type": "code",
   "execution_count": null,
   "metadata": {},
   "outputs": [],
   "source": [
    "f_gen1, d1, losses1 = load_p2p_models(models_path, trend_num, nn_name)\n",
    "p2p1 = pix2pix(f_gen, d)"
   ]
  },
  {
   "cell_type": "code",
   "execution_count": null,
   "metadata": {},
   "outputs": [],
   "source": [
    "plot_p2p_losses(models_path, trend_num, nn_name, losses)"
   ]
  },
  {
   "cell_type": "code",
   "execution_count": null,
   "metadata": {},
   "outputs": [],
   "source": [
    "s1, s2, pan, gen = gen_nn_output(models_path, trend_num, nn_name, f_gen, val_gen, 10, W, H)"
   ]
  },
  {
   "cell_type": "code",
   "execution_count": null,
   "metadata": {},
   "outputs": [],
   "source": [
    "gen[0]"
   ]
  },
  {
   "cell_type": "code",
   "execution_count": null,
   "metadata": {
    "collapsed": true
   },
   "outputs": [],
   "source": []
  }
 ],
 "metadata": {
  "kernelspec": {
   "display_name": "Python 3",
   "language": "python",
   "name": "python3"
  },
  "language_info": {
   "codemirror_mode": {
    "name": "ipython",
    "version": 3
   },
   "file_extension": ".py",
   "mimetype": "text/x-python",
   "name": "python",
   "nbconvert_exporter": "python",
   "pygments_lexer": "ipython3",
   "version": "3.6.1"
  },
  "nbTranslate": {
   "displayLangs": [
    "*"
   ],
   "hotkey": "alt-t",
   "langInMainMenu": true,
   "sourceLang": "en",
   "targetLang": "fr",
   "useGoogleTranslate": true
  },
  "notify_time": "30"
 },
 "nbformat": 4,
 "nbformat_minor": 2
}
