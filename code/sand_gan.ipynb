{
 "cells": [
  {
   "cell_type": "markdown",
   "metadata": {
    "deletable": true,
    "editable": true
   },
   "source": [
    "## pix2pix(U-Net + GAN) experiments"
   ]
  },
  {
   "cell_type": "code",
   "execution_count": 1,
   "metadata": {
    "collapsed": true,
    "deletable": true,
    "editable": true
   },
   "outputs": [],
   "source": [
    "%matplotlib inline\n",
    "import numpy as np\n",
    "import matplotlib.pyplot as plt\n",
    "import seaborn as sns\n",
    "from tqdm import tnrange, tqdm_notebook"
   ]
  },
  {
   "cell_type": "markdown",
   "metadata": {
    "deletable": true,
    "editable": true
   },
   "source": [
    "### Model definitions"
   ]
  },
  {
   "cell_type": "code",
   "execution_count": 2,
   "metadata": {
    "collapsed": false,
    "deletable": true,
    "editable": true
   },
   "outputs": [
    {
     "name": "stderr",
     "output_type": "stream",
     "text": [
      "Using TensorFlow backend.\n"
     ]
    }
   ],
   "source": [
    "from keras import objectives\n",
    "from keras import backend as K\n",
    "from keras.models import Sequential, Model\n",
    "from keras.optimizers import Adam\n",
    "from keras.layers import Input\n",
    "from keras.layers.merge import concatenate\n",
    "from keras.layers.advanced_activations import LeakyReLU\n",
    "from keras.layers.normalization import BatchNormalization\n",
    "from keras.layers.convolutional import Conv2D, Conv2DTranspose\n",
    "from keras.layers.core import Activation, Dropout\n",
    "from keras.utils import plot_model"
   ]
  },
  {
   "cell_type": "code",
   "execution_count": 3,
   "metadata": {
    "collapsed": false,
    "deletable": true,
    "editable": true
   },
   "outputs": [],
   "source": [
    "# U-Net Generator\n",
    "def g_unet(nf, a_ch=1, b_ch=1, out_ch=1, batch_size=1, alpha=0.2, model_name='unet'):\n",
    "    ''' параметры:\n",
    "    input shape = (256, 256, a_ch + b_ch)\n",
    "    output = (256, 256, out_ch)\n",
    "    nf - число фильтров на входном слое\n",
    "    alpha - параметр LeakyReLU\n",
    "    '''\n",
    "    i = Input(shape=(256, 256, a_ch + b_ch))\n",
    "    # (256, 256, a_ch + b_ch)\n",
    "    \n",
    "    conv1 = Conv2D(nf, (3, 3), padding='same', strides=(2, 2))(i)\n",
    "    conv1 = BatchNormalization(axis=3)(conv1)\n",
    "    x = LeakyReLU(alpha)(conv1)\n",
    "    # (128, 128, nf)\n",
    "    \n",
    "    conv2 = Conv2D(nf*2, (3, 3), padding='same', strides=(2, 2))(x)\n",
    "    conv2 = BatchNormalization(axis=3)(conv2)\n",
    "    x = LeakyReLU(alpha)(conv2)\n",
    "    # (64, 64, nf*2)\n",
    "    \n",
    "    conv3 = Conv2D(nf*4, (3, 3), padding='same', strides=(2, 2))(x)\n",
    "    conv3 = BatchNormalization(axis=3)(conv3)\n",
    "    x = LeakyReLU(alpha)(conv3)\n",
    "    # (32, 32, nf*4)\n",
    "\n",
    "    conv4 = Conv2D(nf*8, (3, 3), padding='same', strides=(2, 2))(x)\n",
    "    conv4 = BatchNormalization(axis=3)(conv4)\n",
    "    x = LeakyReLU(alpha)(conv4)\n",
    "    # (16, 16, nf*8)\n",
    "    \n",
    "    conv5 = Conv2D(nf*8, (3, 3), padding='same', strides=(2, 2))(x)\n",
    "    conv5 = BatchNormalization(axis=3)(conv5)\n",
    "    x = LeakyReLU(alpha)(conv5)\n",
    "    # (8, 8, nf*8)\n",
    "    \n",
    "    conv6 = Conv2D(nf*8, (3, 3), padding='same', strides=(2, 2))(x)\n",
    "    conv6 = BatchNormalization(axis=3)(conv6)\n",
    "    x = LeakyReLU(alpha)(conv6)\n",
    "    # (4, 4, nf*8)\n",
    "    \n",
    "    conv7 = Conv2D(nf*8, (3, 3), padding='same', strides=(2, 2))(x)\n",
    "    conv7 = BatchNormalization(axis=3)(conv7)\n",
    "    x = LeakyReLU(alpha)(conv7)\n",
    "    # (2, 2, nf*8)\n",
    "    \n",
    "    conv8 = Conv2D(nf*8, (2, 2), padding='valid', strides=(1, 1))(x)\n",
    "    conv8 = BatchNormalization(axis=3)(conv8)\n",
    "    x = LeakyReLU(alpha)(conv8)\n",
    "    # (1, 1, nf*8)\n",
    "\n",
    "    dconv1 = Conv2DTranspose(nf*8, (2, 2), strides=(1, 1))(x)\n",
    "    dconv1 = BatchNormalization(axis=3)(dconv1)\n",
    "    dconv1 = Dropout(0.5)(dconv1)\n",
    "    x = concatenate([dconv1, conv7], axis=3)\n",
    "    x = LeakyReLU(alpha)(x)\n",
    "    # (2, 2, nf*(8 + 8))\n",
    "\n",
    "    dconv2 = Conv2DTranspose(nf*8, (2, 2), strides=(2, 2))(x)\n",
    "    dconv2 = BatchNormalization(axis=3)(dconv2)\n",
    "    dconv2 = Dropout(0.5)(dconv2)\n",
    "    x = concatenate([dconv2, conv6], axis=3)\n",
    "    x = LeakyReLU(alpha)(x)\n",
    "    # (4, 4, nf*(8 + 8))\n",
    "\n",
    "    dconv3 = Conv2DTranspose(nf*8, (2, 2), strides=(2, 2))(x)\n",
    "    dconv3 = BatchNormalization(axis=3)(dconv3)\n",
    "    x = concatenate([dconv3, conv5], axis=3)\n",
    "    x = LeakyReLU(alpha)(x)\n",
    "    # (8, 8, nf*(8 + 8))\n",
    "    \n",
    "    dconv4 = Conv2DTranspose(nf*8, (2, 2), strides=(2, 2))(x)\n",
    "    dconv4 = BatchNormalization(axis=3)(dconv4)\n",
    "    x = concatenate([dconv4, conv4], axis=3)\n",
    "    x = LeakyReLU(alpha)(x)\n",
    "    # (16, 16, nf*(8 + 8))\n",
    "    \n",
    "    dconv5 = Conv2DTranspose(nf*4, (2, 2), strides=(2, 2))(x)\n",
    "    dconv5 = BatchNormalization(axis=3)(dconv5)\n",
    "    x = concatenate([dconv5, conv3], axis=3)\n",
    "    x = LeakyReLU(alpha)(x)\n",
    "    # (32, 32, nf*(4 + 4))\n",
    "    \n",
    "    dconv6 = Conv2DTranspose(nf*2, (2, 2), strides=(2, 2))(x)\n",
    "    dconv6 = BatchNormalization(axis=3)(dconv6)\n",
    "    x = concatenate([dconv6, conv2], axis=3)\n",
    "    x = LeakyReLU(alpha)(x)\n",
    "    # (64, 64, nf*(2 + 2))\n",
    "    \n",
    "    dconv7 = Conv2DTranspose(nf, (2, 2), strides=(2, 2))(x)\n",
    "    dconv7 = BatchNormalization(axis=3)(dconv7)\n",
    "    x = concatenate([dconv7, conv1], axis=3)\n",
    "    x = LeakyReLU(alpha)(x)\n",
    "    # (128, 128, nf*(1 + 1))\n",
    "\n",
    "    dconv8 = Conv2DTranspose(out_ch, (2, 2), strides=(2, 2))(x)\n",
    "    # (256, 256, out_ch)\n",
    "    \n",
    "\n",
    "    out = Activation('tanh')(dconv8)\n",
    "    unet = Model(i, out, name=model_name)\n",
    "    \n",
    "    return unet"
   ]
  },
  {
   "cell_type": "code",
   "execution_count": 4,
   "metadata": {
    "collapsed": false,
    "deletable": true,
    "editable": true
   },
   "outputs": [],
   "source": [
    "# Discriminator\n",
    "def discriminator(nf, a_ch=1, b_ch=1, c_ch=1, opt=Adam(lr=2e-4, beta_1=0.5), alpha=0.2, model_name='d'):\n",
    "    ''' параметры:\n",
    "    a_ch - число каналов первого изображения\n",
    "    b_ch - число каналов второго\n",
    "    c_ch - третьего\n",
    "    nf - число фильтров на входном слое\n",
    "    alpha - параметр LeakyReLU\n",
    "    '''\n",
    "    i = Input(shape=(256, 256, a_ch + b_ch + c_ch))\n",
    "    # (256, 256, a_ch + b_ch + c_ch)\n",
    "    \n",
    "    conv1 = Conv2D(nf, (3, 3), padding='same', strides=(2,2))(i)\n",
    "    x = LeakyReLU(alpha)(conv1)\n",
    "    # (128, 128, nf)\n",
    "    \n",
    "    conv2 = Conv2D(nf*2, (3, 3), padding='same', strides=(2,2))(x)\n",
    "    x = LeakyReLU(alpha)(conv2)\n",
    "    # (64, 64, nf*2)\n",
    "    \n",
    "    conv3 = Conv2D(nf*4, (3, 3), padding='same', strides=(2,2))(x)\n",
    "    x = LeakyReLU(alpha)(conv3)\n",
    "    # (32, 32, nf*4)\n",
    "    \n",
    "    conv4 = Conv2D(nf*8, (3, 3), padding='same', strides=(2,2))(x)\n",
    "    x = LeakyReLU(alpha)(conv4)\n",
    "    # (16, 16, nf*8)\n",
    "    \n",
    "    conv5 = Conv2D(1, (3, 3), padding='same', strides=(2,2))(x)\n",
    "    out = Activation('sigmoid')(conv5)\n",
    "    # (8, 8, 1)\n",
    "    \n",
    "    d = Model(i, out, name=model_name)\n",
    "    \n",
    "    def d_loss(y_true, y_pred):\n",
    "        L = objectives.binary_crossentropy(K.batch_flatten(y_true), K.batch_flatten(y_pred))\n",
    "        return L\n",
    "    \n",
    "    d.compile(optimizer=opt, loss=d_loss)\n",
    "    return d"
   ]
  },
  {
   "cell_type": "code",
   "execution_count": 5,
   "metadata": {
    "collapsed": true,
    "deletable": true,
    "editable": true
   },
   "outputs": [],
   "source": [
    "def pix2pix(atob, d, a_ch=1, b_ch=1, alpha=100, opt=Adam(lr=2e-4, beta_1=0.5), model_name='pix2pix'):\n",
    "    '''\n",
    "    atob - full generator\n",
    "    d - discriminator\n",
    "    '''\n",
    "    a1 = Input(shape=(256, 256, a_ch))\n",
    "    a2 = Input(shape=(256, 256, a_ch))\n",
    "    b = Input(shape=(256, 256, b_ch))\n",
    "    \n",
    "    # генерируем картинку на основе a1 и a2 с помощью генератора\n",
    "    bp = atob(concatenate([a1, a2], axis=3))\n",
    "    \n",
    "    # дискриминатор получает на вход тройку изображений\n",
    "    d_in = concatenate([a1, a2, bp], axis=3)\n",
    "    pix2pix = Model([a1, a2, b], d(d_in), name=model_name)\n",
    "    \n",
    "    def p2p_loss(y_true, y_pred):\n",
    "        y_true_flat = K.batch_flatten(y_true)\n",
    "        y_pred_flat = K.batch_flatten(y_pred)\n",
    "        \n",
    "        # adversarial loss\n",
    "        L_adv = objectives.binary_crossentropy(y_true_flat, y_pred_flat)\n",
    "        \n",
    "        # atob loss\n",
    "        b_flat = K.batch_flatten(b)\n",
    "        bp_flat = K.batch_flatten(bp)\n",
    "        L_atob = K.mean(K.abs(b_flat - bp_flat))\n",
    "        \n",
    "        return L_adv + alpha*L_atob\n",
    "    \n",
    "    # обучаем генератор - фризим дискриминатор\n",
    "    pix2pix.get_layer('d').trainable = False\n",
    "    \n",
    "    pix2pix.compile(optimizer=opt, loss=p2p_loss)\n",
    "    return pix2pix"
   ]
  },
  {
   "cell_type": "markdown",
   "metadata": {
    "deletable": true,
    "editable": true
   },
   "source": [
    "### Dataset loading + preprocessing"
   ]
  },
  {
   "cell_type": "code",
   "execution_count": 6,
   "metadata": {
    "collapsed": false,
    "deletable": true,
    "editable": true
   },
   "outputs": [],
   "source": [
    "from PIL import Image\n",
    "from os import listdir\n",
    "from keras.preprocessing.image import ImageDataGenerator"
   ]
  },
  {
   "cell_type": "code",
   "execution_count": 7,
   "metadata": {
    "collapsed": true,
    "deletable": true,
    "editable": true
   },
   "outputs": [],
   "source": [
    "# параметры датасета\n",
    "H = 256\n",
    "W = 256\n",
    "# путь к датасету\n",
    "datasetPath = '../data/sand/trend2'\n",
    "# списки файлов для загрузки\n",
    "trainList = listdir(datasetPath + '/train/panorama')\n",
    "valList = listdir(datasetPath + '/validation/panorama')\n",
    "N_train = len(trainList)\n",
    "N_val = len(valList)"
   ]
  },
  {
   "cell_type": "code",
   "execution_count": 8,
   "metadata": {
    "collapsed": false,
    "deletable": true,
    "editable": true
   },
   "outputs": [
    {
     "data": {
      "application/vnd.jupyter.widget-view+json": {
       "model_id": "398c697a7880447ab8212db3f0f50e62"
      }
     },
     "metadata": {},
     "output_type": "display_data"
    },
    {
     "name": "stdout",
     "output_type": "stream",
     "text": [
      "\n"
     ]
    }
   ],
   "source": [
    "# загрузка и нормализация изображений обучающей выборки\n",
    "side1Train = np.empty((N_train, W, H, 1))\n",
    "side2Train = np.empty((N_train, W, H, 1))\n",
    "panTrain = np.empty((N_train, W, H, 1))\n",
    "for i, fileName in enumerate(tqdm_notebook(trainList, desc='Train')):\n",
    "    image = Image.open(datasetPath + '/train/side1/' + fileName)\n",
    "    side1Train[i] = (np.array(image).T.reshape(W, H, 1)) - 127.5\n",
    "    side1Train[i] /= 127.5\n",
    "    \n",
    "    image = Image.open(datasetPath + '/train/side2/' + fileName)\n",
    "    side2Train[i] = (np.array(image).T.reshape(W, H, 1)) - 127.5\n",
    "    side2Train[i] /= 127.5\n",
    "    \n",
    "    image = Image.open(datasetPath + '/train/panorama/' + fileName)\n",
    "    panTrain[i] = (np.array(image).T.reshape(W, H, 1)) - 127.5\n",
    "    panTrain[i] /= 127.5"
   ]
  },
  {
   "cell_type": "code",
   "execution_count": 9,
   "metadata": {
    "collapsed": false,
    "deletable": true,
    "editable": true
   },
   "outputs": [
    {
     "data": {
      "application/vnd.jupyter.widget-view+json": {
       "model_id": "ad4e7eff5bbd4bbf935b4f8b3ea5da6c"
      }
     },
     "metadata": {},
     "output_type": "display_data"
    },
    {
     "name": "stdout",
     "output_type": "stream",
     "text": [
      "\n"
     ]
    }
   ],
   "source": [
    "# загрузка и нормализация изображений валидационной выборки\n",
    "side1Val = np.empty((N_val, W, H, 1))\n",
    "side2Val = np.empty((N_val, W, H, 1))\n",
    "panVal = np.empty((N_val, W, H, 1))\n",
    "for i, fileName in enumerate(tqdm_notebook(valList, desc='Validation')):\n",
    "    image = Image.open(datasetPath + '/validation/side1/' + fileName)\n",
    "    side1Val[i] = (np.array(image).T.reshape(W, H, 1)) - 127.5\n",
    "    side1Val[i] /= 127.5\n",
    "    \n",
    "    image = Image.open(datasetPath + '/validation/side2/' + fileName)\n",
    "    side2Val[i] = (np.array(image).T.reshape(W, H, 1)) - 127.5\n",
    "    side2Val[i] /= 127.5\n",
    "    \n",
    "    image = Image.open(datasetPath + '/validation/panorama/' + fileName)\n",
    "    panVal[i] = (np.array(image).T.reshape(W, H, 1)) - 127.5\n",
    "    panVal[i] /= 127.5"
   ]
  },
  {
   "cell_type": "code",
   "execution_count": 10,
   "metadata": {
    "collapsed": false,
    "deletable": true,
    "editable": true
   },
   "outputs": [],
   "source": [
    "# генераторы изображений\n",
    "batchSize = 50\n",
    "side1TrainGen = ImageDataGenerator().flow(side1Train, batch_size=batchSize)\n",
    "side2TrainGen = ImageDataGenerator().flow(side2Train, batch_size=batchSize)\n",
    "panTrainGen = ImageDataGenerator().flow(panTrain, batch_size=batchSize)\n",
    "\n",
    "side1ValGen = ImageDataGenerator().flow(side1Val, batch_size=batchSize)\n",
    "side2ValGen = ImageDataGenerator().flow(side2Val, batch_size=batchSize)\n",
    "panValGen = ImageDataGenerator().flow(panVal, batch_size=batchSize)"
   ]
  },
  {
   "cell_type": "code",
   "execution_count": 11,
   "metadata": {
    "collapsed": true,
    "deletable": true,
    "editable": true
   },
   "outputs": [],
   "source": [
    "# генераторы, возвращающие тройки изображений\n",
    "trainGen = zip(side1TrainGen, side2TrainGen, panTrainGen)\n",
    "valGen = zip(side1ValGen, side2ValGen, panValGen)"
   ]
  },
  {
   "cell_type": "markdown",
   "metadata": {
    "collapsed": true,
    "deletable": true,
    "editable": true
   },
   "source": [
    "### Training"
   ]
  },
  {
   "cell_type": "code",
   "execution_count": 12,
   "metadata": {
    "collapsed": true,
    "deletable": true,
    "editable": true
   },
   "outputs": [],
   "source": [
    "# генератор размеченных данных для обучения дискриминатора\n",
    "def d_generator(dataGen, atob, dout_size):\n",
    "    while True:\n",
    "        # фейковая тройка\n",
    "        a1_fake, a2_fake, _ = next(dataGen)\n",
    "        a_fake = np.concatenate((a1_fake, a2_fake), axis=3)\n",
    "        b_fake = atob.predict(a_fake)\n",
    "        # реальная тройка\n",
    "        a1_real, a2_real, b_real = next(dataGen)\n",
    "        # объединяем в единый batch\n",
    "        a_real = np.concatenate((a1_real, a2_real), axis=3)\n",
    "        batch_a = np.concatenate((a_fake, a_real), axis=0)\n",
    "        batch_b = np.concatenate((b_fake, b_real), axis=0)\n",
    "        batch_x = np.concatenate((batch_a, batch_b), axis=3)\n",
    "        # labels: fake - 1, real- 0\n",
    "        batch_y = np.ones((batch_x.shape[0], 1) + dout_size)\n",
    "        batch_y[a_fake.shape[0]:] = 0\n",
    "        yield batch_x, batch_y"
   ]
  },
  {
   "cell_type": "code",
   "execution_count": 13,
   "metadata": {
    "collapsed": true,
    "deletable": true,
    "editable": true
   },
   "outputs": [],
   "source": [
    "# обучение дискриминатора\n",
    "def train_discriminator(d, dataGen, steps_per_batch=20):\n",
    "    return d.fit_generator(dataGen, steps_per_epoch=steps_per_batch*2, epochs=1, verbose=False)"
   ]
  },
  {
   "cell_type": "code",
   "execution_count": 15,
   "metadata": {
    "collapsed": true,
    "deletable": true,
    "editable": true
   },
   "outputs": [],
   "source": [
    "# генератор данных для сети-pix2pix\n",
    "def p2p_generator(dataGen, dout_size):\n",
    "    for a1, a2, b in dataGen:\n",
    "        # labels: fake - 1, real- 0\n",
    "        y = np.zeros((a1.shape[0], 1) + dout_size)\n",
    "        yield [a1, a2, b], y"
   ]
  },
  {
   "cell_type": "code",
   "execution_count": 16,
   "metadata": {
    "collapsed": true,
    "deletable": true,
    "editable": true
   },
   "outputs": [],
   "source": [
    "# обучение pix2pix-сети\n",
    "def train_p2p(p2p, dataGen, steps_per_batch=20):\n",
    "    return p2p.fit_generator(dataGen, steps_per_epoch=steps_per_batch, epochs=1, verbose=False)"
   ]
  },
  {
   "cell_type": "code",
   "execution_count": 17,
   "metadata": {
    "collapsed": false,
    "deletable": true,
    "editable": true
   },
   "outputs": [],
   "source": [
    "# вычисление метрик\n",
    "def metrics(dGen, p2pGen, d, p2p, losses, valSamples):\n",
    "    dLoss = d.evaluate_generator(dGen, valSamples)\n",
    "    p2pLoss = p2p.evaluate_generator(p2pGen, valSamples)\n",
    "    losses['dVal'].append(dLoss)\n",
    "    losses['p2pVal'].append(p2pLoss)\n",
    "    #print ('')\n",
    "    #print ('Train Losses of (D={0} / P2P={1});\\n'\n",
    "    #       'Validation Losses of (D={2} / P2P={3})'.format(\n",
    "    #            losses['d'][-1], losses['p2p'][-1], dLoss, p2pLoss))\n",
    "    return dLoss, p2pLoss"
   ]
  },
  {
   "cell_type": "code",
   "execution_count": 18,
   "metadata": {
    "collapsed": true,
    "deletable": true,
    "editable": true
   },
   "outputs": [],
   "source": [
    "# итерация обучения\n",
    "def train_iteration(d, p2p, dGen, p2pGen, losses):\n",
    "    # дискриминатор\n",
    "    dHist = train_discriminator(d, dGen)\n",
    "    losses['d'].extend(dHist.history['loss'])\n",
    "    # генератор\n",
    "    p2pHist = train_p2p(p2p, p2pGen)\n",
    "    losses['p2p'].extend(p2pHist.history['loss'])"
   ]
  },
  {
   "cell_type": "code",
   "execution_count": 19,
   "metadata": {
    "collapsed": true,
    "deletable": true,
    "editable": true
   },
   "outputs": [],
   "source": [
    "# обучение\n",
    "def train(atob, d, p2p, trainGen, valGen, epochs, trainSamples, samplesPerBatch):\n",
    "    # создаем необходимые генераторы\n",
    "    dout_size = d.output_shape[1:3]\n",
    "    dGenTrain = d_generator(trainGen, atob, dout_size)\n",
    "    # для работы tensorflow\n",
    "    next(dGenTrain)\n",
    "    dGenVal = d_generator(valGen, atob, dout_size)\n",
    "    p2pGenTrain = p2p_generator(trainGen, dout_size)\n",
    "    p2pGenVal = p2p_generator(valGen, dout_size)\n",
    "    losses = {'p2p': [], 'd': [], 'p2pVal': [], 'dVal': []}\n",
    "    batchesPerEpoch = trainSamples // samplesPerBatch\n",
    "    # цикл обучения \n",
    "    for e in tnrange(epochs, desc='Epoches'):\n",
    "        for b in tnrange(batchesPerEpoch, desc='Batches', leave=False):\n",
    "            train_iteration(d, p2p, dGenTrain, p2pGenTrain, losses)\n",
    "        # вычисляем метрики на валидации\n",
    "        metrics(dGenVal, p2pGenVal, d, p2p, losses, N_val)\n",
    "    return losses"
   ]
  },
  {
   "cell_type": "code",
   "execution_count": 20,
   "metadata": {
    "collapsed": true,
    "deletable": true,
    "editable": true
   },
   "outputs": [],
   "source": [
    "def save_models(f_gen, d, p2p, losses):\n",
    "    f_gen.save_weights('trained_models/trend2/f_gen.weights')\n",
    "    d.save_weights('trained_models/trend2/d.weights')\n",
    "    p2p.save_weights('trained_models/trend2/p2p.weights')\n",
    "    np.save('trained_models/trend2/losses.npy', losses)\n",
    "    print('Models saved successfully.')"
   ]
  },
  {
   "cell_type": "code",
   "execution_count": 21,
   "metadata": {
    "collapsed": true,
    "deletable": true,
    "editable": true
   },
   "outputs": [],
   "source": [
    "def plot_models(f_gen, d, p2p):\n",
    "    plot_model(f_gen, to_file='trained_models/trend2/f_gen.png', show_shapes=True, show_layer_names=True)\n",
    "    plot_model(d, to_file='trained_models/trend2/d.png', show_shapes=True, show_layer_names=True)\n",
    "    plot_model(p2p, to_file='trained_models/trend2/p2p.png', show_shapes=True, show_layer_names=True)"
   ]
  },
  {
   "cell_type": "code",
   "execution_count": 22,
   "metadata": {
    "collapsed": false,
    "deletable": true,
    "editable": true
   },
   "outputs": [],
   "source": [
    "# создание моделей\n",
    "nf = 8\n",
    "f_gen = g_unet(nf)\n",
    "d = discriminator(nf)\n",
    "p2p = pix2pix(f_gen, d)\n",
    "plot_models(f_gen, d, p2p)"
   ]
  },
  {
   "cell_type": "code",
   "execution_count": 24,
   "metadata": {
    "collapsed": false,
    "deletable": true,
    "editable": true
   },
   "outputs": [
    {
     "data": {
      "application/vnd.jupyter.widget-view+json": {
       "model_id": "69589165c57a4502971072e846456980"
      }
     },
     "metadata": {},
     "output_type": "display_data"
    },
    {
     "data": {
      "application/vnd.jupyter.widget-view+json": {
       "model_id": "ce5f8beba01942f6bb8d5b8eb05a95c3"
      }
     },
     "metadata": {},
     "output_type": "display_data"
    },
    {
     "data": {
      "application/vnd.jupyter.widget-view+json": {
       "model_id": "2c1500c68d9047478b199b30042fe318"
      }
     },
     "metadata": {},
     "output_type": "display_data"
    },
    {
     "data": {
      "application/vnd.jupyter.widget-view+json": {
       "model_id": "51bc36e857814783b79e355133d9fe7f"
      }
     },
     "metadata": {},
     "output_type": "display_data"
    },
    {
     "data": {
      "application/vnd.jupyter.widget-view+json": {
       "model_id": "9d1f725e6b3a4850ba5f5bbfca81ea4d"
      }
     },
     "metadata": {},
     "output_type": "display_data"
    },
    {
     "data": {
      "application/vnd.jupyter.widget-view+json": {
       "model_id": "2ce7bc3f74034d8b8a017a38ef430d69"
      }
     },
     "metadata": {},
     "output_type": "display_data"
    },
    {
     "data": {
      "application/vnd.jupyter.widget-view+json": {
       "model_id": "16daea1e927e43f2b20def2ec10bcdf0"
      }
     },
     "metadata": {},
     "output_type": "display_data"
    },
    {
     "data": {
      "application/vnd.jupyter.widget-view+json": {
       "model_id": "50d2574626e94c1e9f820a96c499aa47"
      }
     },
     "metadata": {},
     "output_type": "display_data"
    },
    {
     "data": {
      "application/vnd.jupyter.widget-view+json": {
       "model_id": "7dcec64ff25b49e0823fc05b8ba90f2e"
      }
     },
     "metadata": {},
     "output_type": "display_data"
    },
    {
     "data": {
      "application/vnd.jupyter.widget-view+json": {
       "model_id": "d4558b3a2a82409da790d708c6adedf2"
      }
     },
     "metadata": {},
     "output_type": "display_data"
    },
    {
     "data": {
      "application/vnd.jupyter.widget-view+json": {
       "model_id": "fe7a2e0f59f248a9b8ddf52720e5f42f"
      }
     },
     "metadata": {},
     "output_type": "display_data"
    },
    {
     "data": {
      "application/vnd.jupyter.widget-view+json": {
       "model_id": "9edb37698ea5442ba64c4dc3758c9b98"
      }
     },
     "metadata": {},
     "output_type": "display_data"
    },
    {
     "data": {
      "application/vnd.jupyter.widget-view+json": {
       "model_id": "d3d7b9a57cca4df7a6705cca2b3e5199"
      }
     },
     "metadata": {},
     "output_type": "display_data"
    },
    {
     "data": {
      "application/vnd.jupyter.widget-view+json": {
       "model_id": "fe47e88a0cc442cca4ebb5bd42214293"
      }
     },
     "metadata": {},
     "output_type": "display_data"
    },
    {
     "data": {
      "application/vnd.jupyter.widget-view+json": {
       "model_id": "3698779d62cd41c18497b1af280673bc"
      }
     },
     "metadata": {},
     "output_type": "display_data"
    },
    {
     "data": {
      "application/vnd.jupyter.widget-view+json": {
       "model_id": "47644d1b813c488ab5826a6d06566ede"
      }
     },
     "metadata": {},
     "output_type": "display_data"
    },
    {
     "data": {
      "application/vnd.jupyter.widget-view+json": {
       "model_id": "7b93cee64cd24377b2e1c9a7fb58a9fb"
      }
     },
     "metadata": {},
     "output_type": "display_data"
    },
    {
     "data": {
      "application/vnd.jupyter.widget-view+json": {
       "model_id": "e3321dba2df04344886740aa5513caf4"
      }
     },
     "metadata": {},
     "output_type": "display_data"
    },
    {
     "data": {
      "application/vnd.jupyter.widget-view+json": {
       "model_id": "11d5f6c40fa343d9907c2fb40b412fb2"
      }
     },
     "metadata": {},
     "output_type": "display_data"
    },
    {
     "data": {
      "application/vnd.jupyter.widget-view+json": {
       "model_id": "7a2244a8beb94afca842861b8b6a106b"
      }
     },
     "metadata": {},
     "output_type": "display_data"
    },
    {
     "data": {
      "application/vnd.jupyter.widget-view+json": {
       "model_id": "5838844439d7495bb9df8248f210de46"
      }
     },
     "metadata": {},
     "output_type": "display_data"
    },
    {
     "name": "stdout",
     "output_type": "stream",
     "text": [
      "\n",
      "Models saved successfully.\n"
     ]
    }
   ],
   "source": [
    "# обучение\n",
    "losses = train(f_gen, d, p2p, trainGen, valGen, epochs=20, trainSamples=N_train, samplesPerBatch=50)\n",
    "save_models(f_gen, d, p2p, losses)"
   ]
  },
  {
   "cell_type": "markdown",
   "metadata": {
    "deletable": true,
    "editable": true
   },
   "source": [
    "### Trained NN"
   ]
  },
  {
   "cell_type": "code",
   "execution_count": 42,
   "metadata": {
    "collapsed": true
   },
   "outputs": [],
   "source": [
    "def plot_losses(losses):\n",
    "    plt.figure(figsize=(10,5))\n",
    "    plt.plot(losses['d'], label='d')\n",
    "    plt.plot(losses['p2p'], label='p2p')\n",
    "    plt.legend()\n",
    "    plt.savefig('trained_models/trend2/nf8/loss_train.png')\n",
    "    \n",
    "    plt.figure(figsize=(10,5))\n",
    "    plt.plot(losses['dVal'], label='dVal')\n",
    "    plt.plot(losses['p2pVal'], label='p2pVal')\n",
    "    plt.legend()\n",
    "    plt.savefig('trained_models/trend2/nf8/loss_val.png')"
   ]
  },
  {
   "cell_type": "code",
   "execution_count": 71,
   "metadata": {
    "collapsed": true
   },
   "outputs": [],
   "source": [
    "def generateImages(f_gen, dataGen, n):\n",
    "    side1, side2, pan = next(dataGen)\n",
    "    inputData = np.concatenate((side1[:n], side2[:n]), axis=3)\n",
    "    generated = f_gen.predict(inputData)\n",
    "    side1Images = []\n",
    "    side2Images = []\n",
    "    panImages = []\n",
    "    genImages = []\n",
    "    for i in range(n):\n",
    "        currSide1Im = (127.5 * (side1[i].reshape(256, 256).T) + 127.5).astype('uint8')\n",
    "        currSide2Im = (127.5 * (side2[i].reshape(256, 256).T) + 127.5).astype('uint8')\n",
    "        currPanIm = (127.5 * (pan[i].reshape(256, 256).T) + 127.5).astype('uint8')\n",
    "        currGenIm = (127.5 * (generated[i].reshape(256, 256).T) + 127.5).astype('uint8')\n",
    "        side1Images.append(Image.fromarray(currSide1Im, mode='L'))\n",
    "        side2Images.append(Image.fromarray(currSide2Im, mode='L'))\n",
    "        panImages.append(Image.fromarray(currPanIm, mode='L'))\n",
    "        genImages.append(Image.fromarray(currGenIm, mode='L'))\n",
    "        fileName = 'sample' + str(i) + '.jpg'\n",
    "        genImages[i].save('trained_models/trend2/nf8/nn_output/' + fileName)\n",
    "    print('NN output saved successfully.')\n",
    "    return side1Images, side2Images, panImages, genImages"
   ]
  },
  {
   "cell_type": "code",
   "execution_count": 43,
   "metadata": {
    "collapsed": false
   },
   "outputs": [
    {
     "data": {
      "image/png": "[encoded data removed]",
      "text/plain": [
       "<matplotlib.figure.Figure at 0x7efc91f16908>"
      ]
     },
     "metadata": {},
     "output_type": "display_data"
    },
    {
     "data": {
      "image/png": "[encoded data removed]",
      "text/plain": [
       "<matplotlib.figure.Figure at 0x7efc91d5fda0>"
      ]
     },
     "metadata": {},
     "output_type": "display_data"
    }
   ],
   "source": [
    "plot_losses(losses)"
   ]
  },
  {
   "cell_type": "code",
   "execution_count": 72,
   "metadata": {
    "collapsed": false
   },
   "outputs": [
    {
     "name": "stdout",
     "output_type": "stream",
     "text": [
      "NN output saved successfully.\n"
     ]
    }
   ],
   "source": [
    "s1, s2, pan, gen = generateImages(f_gen, valGen, 5)"
   ]
  },
  {
   "cell_type": "code",
   "execution_count": null,
   "metadata": {
    "collapsed": true
   },
   "outputs": [],
   "source": []
  }
 ],
 "metadata": {
  "kernelspec": {
   "display_name": "Python 3",
   "language": "python",
   "name": "python3"
  },
  "language_info": {
   "codemirror_mode": {
    "name": "ipython",
    "version": 3
   },
   "file_extension": ".py",
   "mimetype": "text/x-python",
   "name": "python",
   "nbconvert_exporter": "python",
   "pygments_lexer": "ipython3",
   "version": "3.6.1"
  }
 },
 "nbformat": 4,
 "nbformat_minor": 2
}
