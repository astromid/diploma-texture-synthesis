{
 "cells": [
  {
   "cell_type": "markdown",
   "metadata": {},
   "source": [
    "Функции генерировая сэмплов - old"
   ]
  },
  {
   "cell_type": "code",
   "execution_count": null,
   "metadata": {
    "collapsed": true
   },
   "outputs": [],
   "source": [
    "def genSampleSide1(W, H, K, R0, i):\n",
    "    # новое ч/б изображение размером в 10 раз больше для суперсэмплинга\n",
    "    image = Image.new('1', (10 * W, 10 * H), 'white')\n",
    "    draw = ImageDraw.Draw(image)\n",
    "    # S - текущая занятая площадь, S0 - общая площадь \"холста\"\n",
    "    S = 0\n",
    "    R = 0\n",
    "    S0 = 100 * W * H\n",
    "    # рисуем \"песчинки\", пока не достигнем плотности R0\n",
    "    while(R < R0):\n",
    "        x0 = randint(1, 10 * W)\n",
    "        y0 = randint(1, 10 * H)\n",
    "        r = abs(K * x0 + int(randn()))\n",
    "        draw.ellipse((x0 - r, y0 - r, x0 + r, y0 + r), fill='black')\n",
    "        # учитываем вылезание за границу при расчете площади\n",
    "        #if(x0 + r > 10 * W or y0 + r > 10 * H):\n",
    "        #    S += (10 * W - x0 + r) * (10 * H - y0 + r)\n",
    "        #else:\n",
    "        #    S += 4 * r**2\n",
    "        S += pi * r**2\n",
    "        R = S / S0\n",
    "    del draw\n",
    "    # суперсэмплинг с антиалиасингом\n",
    "    image = image.resize((W, H), Image.ANTIALIAS)\n",
    "    newFileName = \"sample\" + str(i) + \".jpg\"\n",
    "    image.save(\"../data/sand/side1/\" + newFileName)\n",
    "    print(\"New sample generated: Side1, file \" +\n",
    "          \"../data/sand/side1/\" + newFileName)"
   ]
  },
  {
   "cell_type": "code",
   "execution_count": null,
   "metadata": {
    "collapsed": true
   },
   "outputs": [],
   "source": [
    "def genSampleSide2(W, Wpan, H, K, R0, i):\n",
    "    # новое ч/б изображение размером в 10 раз больше для суперсэмплинга\n",
    "    image = Image.new('1', (10 * W, 10 * H), 'white')\n",
    "    draw = ImageDraw.Draw(image)\n",
    "    # S - текущая занятая площадь, S0 - общая площадь \"холста\"\n",
    "    S = 0\n",
    "    R = 0\n",
    "    S0 = 100 * W * H\n",
    "    # рисуем \"песчинки\", пока не достигнем плотности R0\n",
    "    while(R < R0):\n",
    "        x0 = randint(1, 10 * W)\n",
    "        y0 = randint(1, 10 * H)\n",
    "        # пересчет координаты для тренда\n",
    "        x = 10 * (Wpan - W) + x0\n",
    "        r = abs(K * x + int(randn()))\n",
    "        S += pi * r**2\n",
    "        R = S / S0\n",
    "        draw.ellipse((x0 - r, y0 - r, x0 + r, y0 + r), fill='black')\n",
    "    del draw\n",
    "    # суперсэмплинг с антиалиасингом\n",
    "    image = image.resize((W, H), Image.ANTIALIAS)\n",
    "    newFileName = \"sample\" + str(i) + \".jpg\"\n",
    "    image.save(\"../data/sand/side2/\" + newFileName)\n",
    "    print(\"New sample generated: Side2, file \" +\n",
    "          \"../data/sand/side2/\" + newFileName)"
   ]
  }
 ],
 "metadata": {
  "kernelspec": {
   "display_name": "Python 3",
   "language": "python",
   "name": "python3"
  },
  "language_info": {
   "codemirror_mode": {
    "name": "ipython",
    "version": 3
   },
   "file_extension": ".py",
   "mimetype": "text/x-python",
   "name": "python",
   "nbconvert_exporter": "python",
   "pygments_lexer": "ipython3",
   "version": "3.6.0"
  },
  "nbTranslate": {
   "displayLangs": [
    "*"
   ],
   "hotkey": "alt-t",
   "langInMainMenu": true,
   "sourceLang": "en",
   "targetLang": "fr",
   "useGoogleTranslate": true
  }
 },
 "nbformat": 4,
 "nbformat_minor": 2
}
