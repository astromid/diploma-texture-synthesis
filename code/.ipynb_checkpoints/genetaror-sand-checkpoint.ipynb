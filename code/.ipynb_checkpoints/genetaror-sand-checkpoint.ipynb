{
 "cells": [
  {
   "cell_type": "markdown",
   "metadata": {
    "deletable": true,
    "editable": true,
    "lang": "fr"
   },
   "source": [
    "# Генератор обучающей выборки (песок)"
   ]
  },
  {
   "cell_type": "markdown",
   "metadata": {
    "collapsed": true,
    "deletable": true,
    "editable": true
   },
   "source": [
    "Равномерное заполнение изображения 256x256 px \"песчинками\" c разной интенсивностью"
   ]
  },
  {
   "cell_type": "code",
   "execution_count": 6,
   "metadata": {
    "collapsed": false,
    "deletable": true,
    "editable": true
   },
   "outputs": [],
   "source": [
    "import numpy as np\n",
    "import matplotlib.pyplot as plt\n",
    "import seaborn as sns\n",
    "from PIL import Image, ImageDraw\n",
    "from numpy.random import randint, randn, poisson, choice\n",
    "from numpy import pi\n",
    "from tqdm import tqdm_notebook, tnrange\n",
    "%matplotlib inline"
   ]
  },
  {
   "cell_type": "markdown",
   "metadata": {
    "deletable": true,
    "editable": true
   },
   "source": [
    "### Гиперпараметры"
   ]
  },
  {
   "cell_type": "code",
   "execution_count": 2,
   "metadata": {
    "collapsed": true,
    "deletable": true,
    "editable": true
   },
   "outputs": [],
   "source": [
    "# размеры изображения обучающей выборки\n",
    "W = 256\n",
    "H = 256\n",
    "# коэффициент антиалиасинга\n",
    "AA = 3\n",
    "# линейный тренд l = lambda = Kx + b\n",
    "lStart = 0.2\n",
    "lEnd = 5\n",
    "K = (lEnd - lStart) / (W * AA)\n",
    "# процент \"обхождения x-ов\"\n",
    "B = 0.3\n",
    "# радиус \"песчинок\"\n",
    "r = 3\n",
    "# названия и путь к файлам\n",
    "fileName = \"sample\"\n",
    "ext = \".jpg\"\n",
    "filePath = \"../data/sand/trend2/\""
   ]
  },
  {
   "cell_type": "markdown",
   "metadata": {
    "deletable": true,
    "editable": true
   },
   "source": [
    "### Функции генерирования сэмплов"
   ]
  },
  {
   "cell_type": "code",
   "execution_count": 3,
   "metadata": {
    "collapsed": false,
    "deletable": true,
    "editable": true
   },
   "outputs": [],
   "source": [
    "def generateSample(w, h, l, B, num, AA, val=False, side=1):\n",
    "    # новое ч/б изображение, размером в AA**2 раз больше для суперсэмплинга\n",
    "    W = w * AA\n",
    "    H = h * AA\n",
    "    R = r * AA\n",
    "    image = Image.new('1', (W, H), 'white')\n",
    "    draw = ImageDraw.Draw(image)\n",
    "    # карта заполнения, чтобы предотвратить взаимопроникновение \"песчинок\"\n",
    "    pixelMap = image.load()\n",
    "    # цикл по x-ам\n",
    "    for k in range(int(B * W)):\n",
    "        x = randint(1, W)\n",
    "        # число событий пуассоновского потока на данной вертикали\n",
    "        Nx = poisson(l(x))\n",
    "        # находим недоступные на данный момент y\n",
    "        bannedY = set()\n",
    "        for y in range(H):\n",
    "            banCond = 0\n",
    "            for j in range(R + 1):\n",
    "                # условия недоступности y\n",
    "                if (x - j > 0):\n",
    "                    cLeft = pixelMap[x - j, y]\n",
    "                else:\n",
    "                    cLeft = True\n",
    "                if (x + j < W - 1):\n",
    "                    cRight = pixelMap[x + j, y]\n",
    "                else:\n",
    "                    cRight = True\n",
    "                if (y - j > 0):\n",
    "                    cTop = pixelMap[x, y - j]\n",
    "                else:\n",
    "                    cTop = True\n",
    "                if (y + j < H - 1):\n",
    "                    cBot = pixelMap[x, y + j]\n",
    "                else:\n",
    "                    cBot = True\n",
    "                freeCond = banCond or cLeft or cRight or cTop or cBot\n",
    "            if(not(freeCond)):\n",
    "                bannedY.add(y)\n",
    "        # заполняем вертикаль\n",
    "        freeY = set(range(W)) - bannedY\n",
    "        for j in range(Nx):\n",
    "            # генерируем y из доступных значений\n",
    "            y = choice(list(freeY))\n",
    "            draw.ellipse((x - R, y - R, x + R, y + R), fill='black')\n",
    "            freeY -= set(range(y - R, y + R + 1))\n",
    "    # суперсэмплинг с антиалиасингом\n",
    "    image = image.resize((w, h))\n",
    "    fullFilePath = filePath\n",
    "    if (val == False):\n",
    "        fullFilePath += \"train/\"\n",
    "    else:\n",
    "        fullFilePath += \"validation/\"\n",
    "    if (side == 1):\n",
    "        fullFilePath += \"side1/\"\n",
    "    elif (side == 2):\n",
    "        fullFilePath += \"side2/\"\n",
    "    else:\n",
    "        fullFilePath += \"panorama/\"\n",
    "    fullFilePath += (fileName + str(num) + ext)\n",
    "    image.save(fullFilePath)"
   ]
  },
  {
   "cell_type": "code",
   "execution_count": 4,
   "metadata": {
    "collapsed": false,
    "deletable": true,
    "editable": true
   },
   "outputs": [
    {
     "data": {
      "application/vnd.jupyter.widget-view+json": {
       "model_id": "537077b2ddef4fce897c9a5ab40f8184"
      }
     },
     "metadata": {},
     "output_type": "display_data"
    },
    {
     "name": "stdout",
     "output_type": "stream",
     "text": [
      "\n"
     ]
    },
    {
     "data": {
      "application/vnd.jupyter.widget-view+json": {
       "model_id": "55eb13440e134bd4aed879deaf67815d"
      }
     },
     "metadata": {},
     "output_type": "display_data"
    },
    {
     "name": "stdout",
     "output_type": "stream",
     "text": [
      "\n"
     ]
    }
   ],
   "source": [
    "# количество сэмплов для генерации\n",
    "N = 10\n",
    "# train/validation = 80/20\n",
    "N_train = int(0.8 * N)\n",
    "N_val = N - N_train\n",
    "for i in tnrange(N_train, desc='Train'):\n",
    "    generateSample(W, H, lambda x: lStart, B, i, AA, val=False, side=1)\n",
    "    generateSample(W, H, lambda x: lEnd, B, i, AA, val=False, side=2)\n",
    "    generateSample(W, H, lambda x: lStart + K * x, B, i, AA, val=False, side=3)\n",
    "\n",
    "for i in tnrange(N_val, desc='Validation'):\n",
    "    generateSample(W, H, lambda x: lStart, B, i, AA, val=True, side=1)\n",
    "    generateSample(W, H, lambda x: lEnd, B, i, AA, val=True, side=2)\n",
    "    generateSample(W, H, lambda x: lStart + K * x, B, i, AA, val=True, side=3)"
   ]
  },
  {
   "cell_type": "code",
   "execution_count": null,
   "metadata": {
    "collapsed": true,
    "deletable": true,
    "editable": true
   },
   "outputs": [],
   "source": []
  }
 ],
 "metadata": {
  "kernelspec": {
   "display_name": "Python 3",
   "language": "python",
   "name": "python3"
  },
  "language_info": {
   "codemirror_mode": {
    "name": "ipython",
    "version": 3
   },
   "file_extension": ".py",
   "mimetype": "text/x-python",
   "name": "python",
   "nbconvert_exporter": "python",
   "pygments_lexer": "ipython3",
   "version": "3.6.1"
  },
  "nbTranslate": {
   "displayLangs": [
    "*"
   ],
   "hotkey": "alt-t",
   "langInMainMenu": true,
   "sourceLang": "en",
   "targetLang": "fr",
   "useGoogleTranslate": true
  },
  "notify_time": "30"
 },
 "nbformat": 4,
 "nbformat_minor": 2
}
