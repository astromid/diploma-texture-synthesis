{
 "cells": [
  {
   "cell_type": "markdown",
   "metadata": {
    "lang": "fr"
   },
   "source": [
    "# Генератор обучающей выборки (песок)"
   ]
  },
  {
   "cell_type": "markdown",
   "metadata": {
    "collapsed": true
   },
   "source": [
    "Равномерное заполнение изображения 100x100 px \"песчинками\" - кругами разного радиуса"
   ]
  },
  {
   "cell_type": "code",
   "execution_count": 2,
   "metadata": {
    "collapsed": false
   },
   "outputs": [],
   "source": [
    "from PIL import Image, ImageDraw\n",
    "from numpy.random import randint, randn\n",
    "from numpy import pi\n",
    "from tqdm import tqdm"
   ]
  },
  {
   "cell_type": "markdown",
   "metadata": {},
   "source": [
    "### Гиперпараметры"
   ]
  },
  {
   "cell_type": "code",
   "execution_count": 3,
   "metadata": {
    "collapsed": true
   },
   "outputs": [],
   "source": [
    "# коэффициент линейного тренда r = Kx\n",
    "K = 0.01\n",
    "# размеры изображения обучающей выборки\n",
    "H = 100\n",
    "W = 100\n",
    "# ширина панорамы\n",
    "Wpan = 500\n",
    "# граничная плотность заполнения изображения \"песком\" (R = S/S0)\n",
    "R0 = 0.95"
   ]
  },
  {
   "cell_type": "markdown",
   "metadata": {},
   "source": [
    "### Функции генерирования сэмплов"
   ]
  },
  {
   "cell_type": "markdown",
   "metadata": {
    "collapsed": false
   },
   "source": [
    "Изображения side1, side2 получаются путем отрезания кусков 100x100 от панорамы"
   ]
  },
  {
   "cell_type": "code",
   "execution_count": 4,
   "metadata": {
    "collapsed": false
   },
   "outputs": [],
   "source": [
    "def genSamplePanorama(W, Wpan, H, K, R0, i):\n",
    "    # новое ч/б изображение размером в 10 раз больше для суперсэмплинга\n",
    "    imagePan = Image.new('1', (10 * Wpan, 10 * H), 'white')\n",
    "    draw = ImageDraw.Draw(imagePan)\n",
    "    # S - текущая занятая площадь, S0 - общая площадь \"холста\"\n",
    "    S = 0\n",
    "    R = 0\n",
    "    S0 = 100 * Wpan * H\n",
    "    # рисуем \"песчинки\", пока не достигнем плотности R0\n",
    "    while(R < R0):\n",
    "        x0 = randint(1, 10 * Wpan)\n",
    "        y0 = randint(1, 10 * H)\n",
    "        r = abs(K * x0 + int(randn()))\n",
    "        S += pi * r**2\n",
    "        R = S / S0\n",
    "        draw.ellipse((x0 - r, y0 - r, x0 + r, y0 + r), fill='black')\n",
    "    del draw\n",
    "    # суперсэмплинг с антиалиасингом\n",
    "    imagePan = imagePan.resize((Wpan, H), Image.LANCZOS)\n",
    "    fileName = \"sample\" + str(i) + \".jpg\"\n",
    "    imagePan.save(\"../data/sand/full_dataset/trend1/panorama/\" + fileName)\n",
    "    \n",
    "    imageSide1 = imagePan.crop((0, 0, W, H))\n",
    "    imageSide1.save(\"../data/sand/full_dataset/trend1/side1/\" + fileName)\n",
    "    \n",
    "    imageSide2 = imagePan.crop((Wpan - W, 0, Wpan, H))\n",
    "    imageSide2.save(\"../data/sand/full_dataset/trend1/side2/\" + fileName)"
   ]
  },
  {
   "cell_type": "code",
   "execution_count": 5,
   "metadata": {
    "collapsed": false
   },
   "outputs": [
    {
     "name": "stderr",
     "output_type": "stream",
     "text": [
      "100%|██████████| 5/5 [00:00<00:00,  5.12it/s]\n"
     ]
    }
   ],
   "source": [
    "# количество сэмплов для генерации\n",
    "N = 5\n",
    "for i in tqdm(range(N)):\n",
    "    genSamplePanorama(W, Wpan, H, K, R0, i)"
   ]
  },
  {
   "cell_type": "code",
   "execution_count": null,
   "metadata": {
    "collapsed": true
   },
   "outputs": [],
   "source": []
  }
 ],
 "metadata": {
  "kernelspec": {
   "display_name": "Python 3",
   "language": "python",
   "name": "python3"
  },
  "language_info": {
   "codemirror_mode": {
    "name": "ipython",
    "version": 3
   },
   "file_extension": ".py",
   "mimetype": "text/x-python",
   "name": "python",
   "nbconvert_exporter": "python",
   "pygments_lexer": "ipython3",
   "version": "3.6.0"
  },
  "nbTranslate": {
   "displayLangs": [
    "*"
   ],
   "hotkey": "alt-t",
   "langInMainMenu": true,
   "sourceLang": "en",
   "targetLang": "fr",
   "useGoogleTranslate": true
  },
  "notify_time": "30"
 },
 "nbformat": 4,
 "nbformat_minor": 2
}
