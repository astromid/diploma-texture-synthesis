{
 "cells": [
  {
   "cell_type": "markdown",
   "metadata": {},
   "source": [
    "## pix2pix(U-Net + GAN) experiments"
   ]
  },
  {
   "cell_type": "code",
   "execution_count": 1,
   "metadata": {
    "collapsed": true
   },
   "outputs": [],
   "source": [
    "%matplotlib inline\n",
    "import numpy as np\n",
    "import matplotlib.pyplot as plt\n",
    "import seaborn as sns\n",
    "from tqdm import tnrange, tqdm_notebook"
   ]
  },
  {
   "cell_type": "markdown",
   "metadata": {},
   "source": [
    "### Model definitions"
   ]
  },
  {
   "cell_type": "code",
   "execution_count": 2,
   "metadata": {
    "collapsed": false
   },
   "outputs": [
    {
     "name": "stderr",
     "output_type": "stream",
     "text": [
      "Using TensorFlow backend.\n"
     ]
    }
   ],
   "source": [
    "from keras import objectives\n",
    "from keras import backend as K\n",
    "from keras.models import Sequential, Model\n",
    "from keras.optimizers import Adam\n",
    "from keras.layers import Input\n",
    "from keras.layers.merge import concatenate\n",
    "from keras.layers.advanced_activations import LeakyReLU\n",
    "from keras.layers.normalization import BatchNormalization\n",
    "from keras.layers.convolutional import Conv2D, Conv2DTranspose, Cropping2D\n",
    "from keras.layers.core import Activation, Dropout"
   ]
  },
  {
   "cell_type": "code",
   "execution_count": 3,
   "metadata": {
    "collapsed": false
   },
   "outputs": [],
   "source": [
    "# U-Net Generator\n",
    "def g_unet(nf, model_name, in_ch=1, out_ch=1, batch_size=1, alpha=0.2):\n",
    "    ''' параметры:\n",
    "    input shape = (100, 100, in_ch)\n",
    "    output = (100, 250, out_ch)\n",
    "    nf - число фильтров на входном слое\n",
    "    alpha - параметр LeakyReLU\n",
    "    '''\n",
    "    i = Input(shape=(100, 100, in_ch))\n",
    "    # (100, 100, in_ch)\n",
    "    \n",
    "    conv1 = Conv2D(nf, (6, 6), padding='same', strides=(5, 5))(i)\n",
    "    conv1 = BatchNormalization(axis=3)(conv1)\n",
    "    x = LeakyReLU(alpha)(conv1)\n",
    "    # (20, 20, nf)\n",
    "    \n",
    "    conv2 = Conv2D(nf*5, (6, 6), padding='same', strides=(5, 5))(x)\n",
    "    conv2 = BatchNormalization(axis=3)(conv2)\n",
    "    x = LeakyReLU(alpha)(conv2)\n",
    "    # (4, 4, nf*5)\n",
    "    \n",
    "    conv3 = Conv2D(nf*10, (3, 3), padding='same', strides=(2, 2))(x)\n",
    "    conv3 = BatchNormalization(axis=3)(conv3)\n",
    "    x = LeakyReLU(alpha)(conv3)\n",
    "    # (2, 2, nf*10)\n",
    "\n",
    "    conv4 = Conv2D(nf*10, (2, 2), padding='valid', strides=(1, 1))(x)\n",
    "    conv4 = BatchNormalization(axis=3)(conv4)\n",
    "    x = LeakyReLU(alpha)(conv4)\n",
    "    # (1, 1, nf*10)\n",
    "\n",
    "    dconv1 = Conv2DTranspose(nf*10, (2, 2), strides=(1, 1))(x)\n",
    "    dconv1 = BatchNormalization(axis=3)(dconv1)\n",
    "    dconv1 = Dropout(0.5)(dconv1)\n",
    "    x = concatenate([dconv1, conv3], axis=3)\n",
    "    x = LeakyReLU(alpha)(x)\n",
    "    # (2, 2, nf*(10 + 10))\n",
    "\n",
    "    dconv2 = Conv2DTranspose(nf*5, (2, 2), strides=(2, 2))(x)\n",
    "    dconv2 = BatchNormalization(axis=3)(dconv2)\n",
    "    x = concatenate([dconv2, conv2], axis=3)\n",
    "    x = LeakyReLU(alpha)(x)\n",
    "    # (4, 4, nf*(5 + 5))\n",
    "\n",
    "    dconv3 = Conv2DTranspose(nf, (2, 2), strides=(5, 5))(x)\n",
    "    dconv3 = BatchNormalization(axis=3)(dconv3)\n",
    "    x = concatenate([dconv3, conv1], axis=3)\n",
    "    x = LeakyReLU(alpha)(x)\n",
    "    # (20, 20, nf*(1 + 1))\n",
    "\n",
    "    dconv4 = Conv2DTranspose(out_ch, (2, 2), strides=(13, 5))(x)\n",
    "    # (260, 100, out_ch)\n",
    "    \n",
    "    dconv4 = Cropping2D((5, 0))(dconv4)\n",
    "    # (250, 100, out_ch)\n",
    "\n",
    "    out = Activation('tanh')(dconv4)\n",
    "    unet = Model(i, out, name=model_name)\n",
    "    \n",
    "    return unet"
   ]
  },
  {
   "cell_type": "code",
   "execution_count": 4,
   "metadata": {
    "collapsed": false
   },
   "outputs": [],
   "source": [
    "# Discriminator\n",
    "def discriminator(nf, a_ch=1, b_ch=1, c_ch=1, opt=Adam(lr=2e-4, beta_1=0.5), alpha=0.2, model_name='d'):\n",
    "    ''' параметры:\n",
    "    a_ch - число каналов первого изображения\n",
    "    b_ch - число каналов второго\n",
    "    c_ch - третьего\n",
    "    nf - число фильтров на входном слое\n",
    "    alpha - параметр LeakyReLU\n",
    "    '''\n",
    "    i1 = Input(shape=(100, 100, a_ch + b_ch))\n",
    "    # (100, 100, a_ch + b_ch) - side1 + side2\n",
    "    \n",
    "    i2 = Input(shape=(500, 100, c_ch))\n",
    "    # (500, 100, c_ch) - panorama\n",
    "    \n",
    "    conv0 = Conv2D(c_ch, (6,2), padding='same', strides=(5,1))(i2)\n",
    "    # (100, 100, c_ch)\n",
    "    \n",
    "    i = concatenate([i1, conv0], axis=3)\n",
    "    # (100, 100, a_ch + b_ch + c_ch)\n",
    "    \n",
    "    conv1 = Conv2D(nf, (6, 6), padding='same', strides=(5,5))(i)\n",
    "    x = LeakyReLU(alpha)(conv1)\n",
    "    # (20, 20, nf)\n",
    "    \n",
    "    conv2 = Conv2D(nf*5, (6, 6), padding='same', strides=(5,5))(x)\n",
    "    x = LeakyReLU(alpha)(conv2)\n",
    "    # (4, 4, nf*5)\n",
    "    \n",
    "    conv3 = Conv2D(1, (3, 3), padding='same', strides=(2,2))(x)\n",
    "    out = Activation('sigmoid')(conv3)\n",
    "    # (2, 2, 1)\n",
    "    \n",
    "    d = Model([i1, i2], out, name=model_name)\n",
    "    \n",
    "    def d_loss(y_true, y_pred):\n",
    "        L = objectives.binary_crossentropy(K.batch_flatten(y_true), K.batch_flatten(y_pred))\n",
    "        return L\n",
    "    \n",
    "    d.compile(optimizer=opt, loss=d_loss)\n",
    "    return d"
   ]
  },
  {
   "cell_type": "code",
   "execution_count": 5,
   "metadata": {
    "collapsed": false
   },
   "outputs": [],
   "source": [
    "def full_generator(nf, in_ch=1, out_ch=1, batch_size=1, alpha=0.2, model_name='f_gen'):\n",
    "    a1 = Input(shape=(100, 100, in_ch))\n",
    "    a2 = Input(shape=(100, 100, in_ch))\n",
    "    gen1 = g_unet(nf, 'unet1', in_ch, out_ch, batch_size, alpha)\n",
    "    out1 = gen1(a1)\n",
    "    gen2 = g_unet(nf, 'unet2', in_ch, out_ch, batch_size, alpha)\n",
    "    out2 = gen2(a2)\n",
    "    out = concatenate([out1, out2], axis=1)\n",
    "    f_gen = Model([a1, a2], out, name=model_name)\n",
    "    return f_gen"
   ]
  },
  {
   "cell_type": "code",
   "execution_count": 6,
   "metadata": {
    "collapsed": true
   },
   "outputs": [],
   "source": [
    "def pix2pix(atob, d, a_ch=1, b_ch=1, alpha=100, opt=Adam(lr=2e-4, beta_1=0.5), model_name='pix2pix'):\n",
    "    '''\n",
    "    atob - full generator\n",
    "    d - discriminator\n",
    "    '''\n",
    "    a1 = Input(shape=(100, 100, a_ch))\n",
    "    a2 = Input(shape=(100, 100, a_ch))\n",
    "    b = Input(shape=(500, 100, b_ch))\n",
    "    \n",
    "    # генерируем картинку на основе a1 и a2 с помощью объединенного генератора:\n",
    "    bp = atob([a1, a2])\n",
    "    \n",
    "    # дискриминатор получает на вход пару изображений\n",
    "    d_in = [concatenate([a1, a2], axis=3), bp]\n",
    "    pix2pix = Model([a1, a2, b], d(d_in), name=model_name)\n",
    "    \n",
    "    def p2p_loss(y_true, y_pred):\n",
    "        y_true_flat = K.batch_flatten(y_true)\n",
    "        y_pred_flat = K.batch_flatten(y_pred)\n",
    "        \n",
    "        # adversarial loss\n",
    "        L_adv = objectives.binary_crossentropy(y_true_flat, y_pred_flat)\n",
    "        \n",
    "        # atob loss\n",
    "        b_flat = K.batch_flatten(b)\n",
    "        bp_flat = K.batch_flatten(bp)\n",
    "        L_atob = K.mean(K.abs(b_flat - bp_flat))\n",
    "        \n",
    "        return L_adv + alpha*L_atob\n",
    "    \n",
    "    # обучаем генератор - фризим дискриминатор\n",
    "    pix2pix.get_layer('d').trainable = False\n",
    "    \n",
    "    pix2pix.compile(optimizer=opt, loss=p2p_loss)\n",
    "    return pix2pix"
   ]
  },
  {
   "cell_type": "markdown",
   "metadata": {},
   "source": [
    "### Dataset loading + preprocessing"
   ]
  },
  {
   "cell_type": "code",
   "execution_count": 7,
   "metadata": {
    "collapsed": false
   },
   "outputs": [],
   "source": [
    "from PIL import Image\n",
    "from os import listdir\n",
    "from keras.preprocessing.image import ImageDataGenerator"
   ]
  },
  {
   "cell_type": "code",
   "execution_count": 8,
   "metadata": {
    "collapsed": true
   },
   "outputs": [],
   "source": [
    "# параметры датасета\n",
    "H = 100\n",
    "W = 100\n",
    "W_pan = 500\n",
    "# путь к датасету\n",
    "datasetPath = '../data/sand/trend1'\n",
    "# списки файлов для загрузки\n",
    "trainList = listdir(datasetPath + '/train/panorama')\n",
    "valList = listdir(datasetPath + '/validation/panorama')\n",
    "N_train = len(trainList)\n",
    "N_val = len(valList)"
   ]
  },
  {
   "cell_type": "code",
   "execution_count": 9,
   "metadata": {
    "collapsed": false
   },
   "outputs": [
    {
     "name": "stdout",
     "output_type": "stream",
     "text": [
      "\n",
      "Train dataset loaded.\n"
     ]
    }
   ],
   "source": [
    "side1Train = np.empty((N_train, W, H, 1))\n",
    "side2Train = np.empty((N_train, W, H, 1))\n",
    "panoramaTrain = np.empty((N_train, W_pan, H, 1))\n",
    "for i, fileName in enumerate(tqdm_notebook(trainList)):\n",
    "    image = Image.open(datasetPath + '/train/side1/' + fileName)\n",
    "    side1Train[i] = np.array(image).T.reshape(W, H, 1)\n",
    "    \n",
    "    image = Image.open(datasetPath + '/train/side2/' + fileName)\n",
    "    side2Train[i] = np.array(image).T.reshape(W, H, 1)\n",
    "    \n",
    "    image = Image.open(datasetPath + '/train/panorama/' + fileName)\n",
    "    panoramaTrain[i] = np.array(image).T.reshape(W_pan, H, 1)\n",
    "print('Train dataset loaded.')"
   ]
  },
  {
   "cell_type": "code",
   "execution_count": 10,
   "metadata": {
    "collapsed": false
   },
   "outputs": [
    {
     "name": "stdout",
     "output_type": "stream",
     "text": [
      "\n",
      "Validation dataset loaded.\n"
     ]
    }
   ],
   "source": [
    "side1Val = np.empty((N_val, W, H, 1))\n",
    "side2Val = np.empty((N_val, W, H, 1))\n",
    "panoramaVal = np.empty((N_val, W_pan, H, 1))\n",
    "for i, fileName in enumerate(tqdm_notebook(valList)):\n",
    "    image = Image.open(datasetPath + '/validation/side1/' + fileName)\n",
    "    side1Val[i] = np.array(image).T.reshape(W, H, 1)\n",
    "    \n",
    "    image = Image.open(datasetPath + '/validation/side2/' + fileName)\n",
    "    side2Val[i] = np.array(image).T.reshape(W, H, 1)\n",
    "    \n",
    "    image = Image.open(datasetPath + '/validation/panorama/' + fileName)\n",
    "    panoramaVal[i] = np.array(image).T.reshape(W_pan, H, 1)\n",
    "print('Validation dataset loaded.')"
   ]
  },
  {
   "cell_type": "code",
   "execution_count": 11,
   "metadata": {
    "collapsed": false
   },
   "outputs": [],
   "source": [
    "# генераторы изображений\n",
    "side1TrainGen = ImageDataGenerator(rescale=1./255, vertical_flip=True).flow(side1Train, shuffle=True)\n",
    "side2TrainGen = ImageDataGenerator(rescale=1./255, vertical_flip=True).flow(side2Train, shuffle=True)\n",
    "panoramaTrainGen = ImageDataGenerator(rescale=1./255, vertical_flip=True).flow(panoramaTrain, shuffle=True)\n",
    "\n",
    "side1ValGen = ImageDataGenerator(rescale=1./255).flow(side1Val, shuffle=True)\n",
    "side2ValGen = ImageDataGenerator(rescale=1./255).flow(side2Val, shuffle=True)\n",
    "panoramaValGen = ImageDataGenerator(rescale=1./255).flow(panoramaVal, shuffle=True)"
   ]
  },
  {
   "cell_type": "code",
   "execution_count": 12,
   "metadata": {
    "collapsed": true
   },
   "outputs": [],
   "source": [
    "# генераторы, возвращающие тройки изображений\n",
    "trainGen = zip(side1TrainGen, side2TrainGen, panoramaTrainGen)\n",
    "valGen = zip(side1ValGen, side2ValGen, panoramaValGen)"
   ]
  },
  {
   "cell_type": "markdown",
   "metadata": {
    "collapsed": true
   },
   "source": [
    "### Training"
   ]
  },
  {
   "cell_type": "code",
   "execution_count": 13,
   "metadata": {
    "collapsed": true
   },
   "outputs": [],
   "source": [
    "# генератор размеченных данных для обучения дискриминатора\n",
    "def d_generator(dataGen, atob, dout_size):\n",
    "    while True:\n",
    "        # фейковая тройка\n",
    "        a1_fake, a2_fake, _ = next(dataGen)\n",
    "        b_fake = atob.predict([a1_fake, a2_fake])\n",
    "        # реальная тройка\n",
    "        a1_real, a2_real, b_real = next(dataGen)\n",
    "        # объединяем в единый batch\n",
    "        a_fake = np.concatenate((a1_fake, a2_fake), axis=3)\n",
    "        a_real = np.concatenate((a1_real, a2_real), axis=3)\n",
    "        batch_a = np.concatenate((a_fake, a_real), axis=0)\n",
    "        batch_b = np.concatenate((b_fake, b_real), axis=0)\n",
    "        batch_x = [batch_a, batch_b]\n",
    "        # labels: fake - 1, real- 0\n",
    "        batch_y = np.ones((batch_x[0].shape[0], 1) + dout_size)\n",
    "        batch_y[a_fake.shape[0]:] = 0\n",
    "        yield batch_x, batch_y"
   ]
  },
  {
   "cell_type": "code",
   "execution_count": 14,
   "metadata": {
    "collapsed": true
   },
   "outputs": [],
   "source": [
    "# обучение дискриминатора\n",
    "def train_discriminator(d, dataGen, steps_per_batch=20):\n",
    "    return d.fit_generator(dataGen, steps_per_epoch=steps_per_batch*2, epochs=1, verbose=False)"
   ]
  },
  {
   "cell_type": "code",
   "execution_count": 15,
   "metadata": {
    "collapsed": true
   },
   "outputs": [],
   "source": [
    "# генератор данных для сети-генератора\n",
    "def p2p_generator(dataGen, dout_size):\n",
    "    for a1, a2, b in dataGen:\n",
    "        # labels: fake - 1, real- 0\n",
    "        y = np.zeros((a1.shape[0], 1) + dout_size)\n",
    "        yield [a1, a2, b], y"
   ]
  },
  {
   "cell_type": "code",
   "execution_count": 16,
   "metadata": {
    "collapsed": true
   },
   "outputs": [],
   "source": [
    "# обучение pix2pix-сети\n",
    "def train_p2p(p2p, dataGen, steps_per_batch=20):\n",
    "    return p2p.fit_generator(dataGen, steps_per_epoch=steps_per_batch, epochs=1, verbose=False)"
   ]
  },
  {
   "cell_type": "code",
   "execution_count": 28,
   "metadata": {
    "collapsed": false
   },
   "outputs": [],
   "source": [
    "# вычисление метрик\n",
    "def metrics(dGen, p2pGen, d, p2p, losses, valSamples=200):\n",
    "    dLoss = d.evaluate_generator(dGen, valSamples)\n",
    "    p2pLoss = p2p.evaluate_generator(p2pGen, valSamples)\n",
    "    losses['dVal'].append(dLoss)\n",
    "    losses['p2pVal'].append(p2pLoss)\n",
    "    print ('')\n",
    "    print ('Train Losses of (D={0} / P2P={1});\\n'\n",
    "           'Validation Losses of (D={2} / P2P={3})'.format(\n",
    "                losses['d'][-1], losses['p2p'][-1], dLoss, p2pLoss))\n",
    "    return dLoss, p2pLoss"
   ]
  },
  {
   "cell_type": "code",
   "execution_count": 18,
   "metadata": {
    "collapsed": true
   },
   "outputs": [],
   "source": [
    "# итерация обучения\n",
    "def train_iteration(d, p2p, dGen, p2pGen, losses):\n",
    "    # дискриминатор\n",
    "    dHist = train_discriminator(d, dGen)\n",
    "    losses['d'].extend(dHist.history['loss'])\n",
    "    # генератор\n",
    "    p2pHist = train_p2p(p2p, p2pGen)\n",
    "    losses['p2p'].extend(p2pHist.history['loss'])"
   ]
  },
  {
   "cell_type": "code",
   "execution_count": 25,
   "metadata": {
    "collapsed": true
   },
   "outputs": [],
   "source": [
    "# обучение\n",
    "def train(atob, d, p2p, trainGen, valGen, epochs, trainSamples, samplesPerBatch):\n",
    "    # создаем необходимые генераторы\n",
    "    dout_size = d.output_shape[1:3]\n",
    "    dGenTrain = d_generator(trainGen, atob, dout_size)\n",
    "    # для работы tensorflow\n",
    "    next(dGenTrain)\n",
    "    dGenVal = d_generator(valGen, atob, dout_size)\n",
    "    p2pGenTrain = p2p_generator(trainGen, dout_size)\n",
    "    p2pGenVal = p2p_generator(valGen, dout_size)\n",
    "    losses = {'p2p': [], 'd': [], 'p2pVal': [], 'dVal': []}\n",
    "    batchesPerEpoch = trainSamples // samplesPerBatch\n",
    "    # цикл обучения \n",
    "    for e in tnrange(epochs, desc='Epoches'):\n",
    "        for b in tnrange(batchesPerEpoch, desc='Batches', leave=False):\n",
    "            train_iteration(d, p2p, dGenTrain, p2pGenTrain, losses)\n",
    "        # вычисляем метрики на валидации\n",
    "        metrics(dGenVal, p2pGenVal, d, p2p, losses, N_val)"
   ]
  },
  {
   "cell_type": "code",
   "execution_count": 29,
   "metadata": {
    "collapsed": false
   },
   "outputs": [],
   "source": [
    "# создание моделей\n",
    "f_gen = full_generator(5)\n",
    "d = discriminator(5)\n",
    "p2p = pix2pix(f_gen, d)"
   ]
  },
  {
   "cell_type": "code",
   "execution_count": 31,
   "metadata": {
    "collapsed": false
   },
   "outputs": [
    {
     "name": "stdout",
     "output_type": "stream",
     "text": [
      "\n",
      "Train Losses of (D=0.00030608401939389294 / P2P=59.88171443939209);\n",
      "Validation Losses of (D=0.000763193187487955 / P2P=64.37945955692057)\n",
      "\n",
      "Train Losses of (D=0.0007045633068628376 / P2P=58.67729663848877);\n",
      "Validation Losses of (D=0.0046525430280902275 / P2P=64.70011632205059)\n",
      "\n",
      "Train Losses of (D=0.0020615691762941426 / P2P=58.86135120391846);\n",
      "Validation Losses of (D=0.004221938189169284 / P2P=67.02162562045275)\n",
      "\n",
      "Train Losses of (D=0.012325565831270069 / P2P=57.793976402282716);\n",
      "Validation Losses of (D=0.021071237327819046 / P2P=67.10432427661783)\n",
      "\n",
      "Train Losses of (D=0.007481633767019958 / P2P=57.27564697265625);\n",
      "Validation Losses of (D=0.012629882320748647 / P2P=69.93454961790108)\n",
      "\n",
      "Train Losses of (D=0.0031955386977642773 / P2P=58.329160118103026);\n",
      "Validation Losses of (D=0.007986520266403464 / P2P=71.8288292048857)\n",
      "\n",
      "Train Losses of (D=0.0021405824008979835 / P2P=58.03810424804688);\n",
      "Validation Losses of (D=0.0032068821203994186 / P2P=72.99962019254376)\n",
      "\n",
      "Train Losses of (D=0.0006905175519932527 / P2P=58.477677726745604);\n",
      "Validation Losses of (D=0.0013108250687154305 / P2P=73.99451699062952)\n",
      "\n",
      "Train Losses of (D=0.00035356777734705245 / P2P=60.24081935882568);\n",
      "Validation Losses of (D=0.0008725293572401293 / P2P=74.92880680250084)\n",
      "\n",
      "Train Losses of (D=0.00018764937258310965 / P2P=60.19229583740234);\n",
      "Validation Losses of (D=0.0005127847990912921 / P2P=76.29213574424197)\n",
      "\n"
     ]
    }
   ],
   "source": [
    "# обучение\n",
    "train(f_gen, d, p2p, trainGen, valGen, 10, N_train, 40)"
   ]
  },
  {
   "cell_type": "code",
   "execution_count": 34,
   "metadata": {
    "collapsed": false
   },
   "outputs": [
    {
     "data": {
      "text/plain": [
       "[(None, 100, 100, 1), (None, 100, 100, 1)]"
      ]
     },
     "execution_count": 34,
     "metadata": {},
     "output_type": "execute_result"
    }
   ],
   "source": []
  },
  {
   "cell_type": "markdown",
   "metadata": {},
   "source": [
    "### Using trained NN"
   ]
  },
  {
   "cell_type": "code",
   "execution_count": 199,
   "metadata": {
    "collapsed": false
   },
   "outputs": [],
   "source": [
    "TestIMS1, TestIMS2, TestPan = next(valGen)"
   ]
  },
  {
   "cell_type": "code",
   "execution_count": 200,
   "metadata": {
    "collapsed": false
   },
   "outputs": [],
   "source": [
    "TestIMS1 = (255 * TestIMS1[0].reshape(100, 100).T).astype('uint8')"
   ]
  },
  {
   "cell_type": "code",
   "execution_count": 201,
   "metadata": {
    "collapsed": true
   },
   "outputs": [],
   "source": [
    "TestIMS2 = (255 * TestIMS2[0].reshape(100, 100).T).astype('uint8')"
   ]
  },
  {
   "cell_type": "code",
   "execution_count": 202,
   "metadata": {
    "collapsed": false
   },
   "outputs": [],
   "source": [
    "TestPan = (255 * TestPan[0].reshape(500, 100).T).astype('uint8')"
   ]
  },
  {
   "cell_type": "code",
   "execution_count": 205,
   "metadata": {
    "collapsed": false
   },
   "outputs": [],
   "source": [
    "IMPan = Image.fromarray(TestPan, mode='L')\n",
    "ImSide1 = Image.fromarray(TestIMS1, mode='L')\n",
    "ImSide2 = Image.fromarray(TestIMS2, mode='L')"
   ]
  },
  {
   "cell_type": "code",
   "execution_count": 206,
   "metadata": {
    "collapsed": false
   },
   "outputs": [
    {
     "data": {
      "image/png": "[encoded data removed]",
      "text/plain": [
       "<PIL.Image.Image image mode=L size=500x100 at 0x7F8E91B19748>"
      ]
     },
     "execution_count": 206,
     "metadata": {},
     "output_type": "execute_result"
    }
   ],
   "source": [
    "IMPan"
   ]
  },
  {
   "cell_type": "code",
   "execution_count": 207,
   "metadata": {
    "collapsed": false
   },
   "outputs": [
    {
     "data": {
      "image/png": "[encoded data removed]",
      "text/plain": [
       "<PIL.Image.Image image mode=L size=100x100 at 0x7F8E91B19780>"
      ]
     },
     "execution_count": 207,
     "metadata": {},
     "output_type": "execute_result"
    }
   ],
   "source": [
    "ImSide1"
   ]
  },
  {
   "cell_type": "code",
   "execution_count": 208,
   "metadata": {
    "collapsed": false
   },
   "outputs": [
    {
     "data": {
      "image/png": "[encoded data removed]",
      "text/plain": [
       "<PIL.Image.Image image mode=L size=100x100 at 0x7F8E91B197B8>"
      ]
     },
     "execution_count": 208,
     "metadata": {},
     "output_type": "execute_result"
    }
   ],
   "source": [
    "ImSide2"
   ]
  },
  {
   "cell_type": "code",
   "execution_count": 216,
   "metadata": {
    "collapsed": true
   },
   "outputs": [],
   "source": [
    "input1 = (np.array(ImSide1) / 255).reshape(1, 100, 100, 1)"
   ]
  },
  {
   "cell_type": "code",
   "execution_count": 217,
   "metadata": {
    "collapsed": true
   },
   "outputs": [],
   "source": [
    "input2 = (np.array(ImSide2) / 255).reshape(1, 100, 100, 1)"
   ]
  },
  {
   "cell_type": "code",
   "execution_count": 218,
   "metadata": {
    "collapsed": false
   },
   "outputs": [],
   "source": [
    "PRED = f_gen.predict([input1, input2])"
   ]
  },
  {
   "cell_type": "code",
   "execution_count": 231,
   "metadata": {
    "collapsed": false
   },
   "outputs": [],
   "source": [
    "imPREDarr = (255 * PRED.reshape(500, 100).T).astype('uint8')"
   ]
  },
  {
   "cell_type": "code",
   "execution_count": 232,
   "metadata": {
    "collapsed": false
   },
   "outputs": [],
   "source": [
    "imPRED = Image.fromarray(imPREDarr, mode='L')"
   ]
  },
  {
   "cell_type": "code",
   "execution_count": 233,
   "metadata": {
    "collapsed": false
   },
   "outputs": [
    {
     "data": {
      "image/png": "[encoded data removed]",
      "text/plain": [
       "<PIL.Image.Image image mode=L size=500x100 at 0x7F8E91B19F28>"
      ]
     },
     "execution_count": 233,
     "metadata": {},
     "output_type": "execute_result"
    }
   ],
   "source": [
    "imPRED"
   ]
  },
  {
   "cell_type": "code",
   "execution_count": null,
   "metadata": {
    "collapsed": true
   },
   "outputs": [],
   "source": []
  }
 ],
 "metadata": {
  "kernelspec": {
   "display_name": "Python 3",
   "language": "python",
   "name": "python3"
  },
  "language_info": {
   "codemirror_mode": {
    "name": "ipython",
    "version": 3
   },
   "file_extension": ".py",
   "mimetype": "text/x-python",
   "name": "python",
   "nbconvert_exporter": "python",
   "pygments_lexer": "ipython3",
   "version": "3.6.0"
  },
  "widgets": {
   "state": {
    "059ae671edba45f294ff6c2e54db676b": {
     "views": [
      {
       "cell_index": 24
      }
     ]
    },
    "0e03df81cf774580920b06fdaaa71934": {
     "views": [
      {
       "cell_index": 24
      }
     ]
    },
    "1b22fb5859a74eaeb4a1ab47d53bf293": {
     "views": [
      {
       "cell_index": 24
      }
     ]
    },
    "2d34c0f52ec34b92b664901bf7e6bc3a": {
     "views": [
      {
       "cell_index": 24
      }
     ]
    },
    "2d4ef3a1b9ff41d6b7f4af7bb6e6632e": {
     "views": [
      {
       "cell_index": 12
      }
     ]
    },
    "2e815156307e401d8b7180b9ca650300": {
     "views": [
      {
       "cell_index": 24
      }
     ]
    },
    "482a9ae4f0934e4c88805e6df0c37dc2": {
     "views": [
      {
       "cell_index": 24
      }
     ]
    },
    "57a7262f4cdc43f387a080022d5b827b": {
     "views": [
      {
       "cell_index": 24
      }
     ]
    },
    "6feadfcd182e4752bc4cd64c4dc95bc8": {
     "views": [
      {
       "cell_index": 24
      }
     ]
    },
    "76833077406a43a5b1211eccc52bb1a7": {
     "views": [
      {
       "cell_index": 24
      }
     ]
    },
    "89bffb42006349e6bc7ae2e364b82cc2": {
     "views": [
      {
       "cell_index": 24
      }
     ]
    },
    "99df0e532ada4a90a7cb40f95678b607": {
     "views": [
      {
       "cell_index": 24
      }
     ]
    },
    "9f1fabeffe9045be82887a950fbbd166": {
     "views": [
      {
       "cell_index": 24
      }
     ]
    },
    "9ff0355a22324bc4ba85cde3012957dc": {
     "views": [
      {
       "cell_index": 24
      }
     ]
    },
    "b746d086bf3c413281b66c860e5acae3": {
     "views": [
      {
       "cell_index": 24
      }
     ]
    },
    "b84938d618a041b6b2154f4d3f877254": {
     "views": [
      {
       "cell_index": 24
      }
     ]
    },
    "da4b6de95a7343259c1b4600d85fc894": {
     "views": [
      {
       "cell_index": 11
      }
     ]
    },
    "e3c4e73b8e08492289e5f2b1d29634a2": {
     "views": [
      {
       "cell_index": 24
      }
     ]
    },
    "fa5d57614ad34107a41e9dffa0a2edfb": {
     "views": [
      {
       "cell_index": 24
      }
     ]
    }
   },
   "version": "1.2.0"
  }
 },
 "nbformat": 4,
 "nbformat_minor": 2
}
